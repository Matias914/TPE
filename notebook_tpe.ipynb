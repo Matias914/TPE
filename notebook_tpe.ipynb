{
 "cells": [
  {
   "cell_type": "markdown",
   "metadata": {},
   "source": [
    "# Trabajo práctico especial\n",
    "  \n",
    "Materia: Fundamentos de la Ciencia de Datos.    \n",
    "Integrantes: León Nicolás, Ortiz Matías y Ramírez Gonzalo.    "
   ]
  },
  {
   "cell_type": "markdown",
   "metadata": {},
   "source": [
    "## Datos sobre el dataset\n",
    "\n",
    "Este conjunto de datos contiene 3232 muestras de vino obtenidas mediante pruebas fisicoquímicas en la bodega El Refugio, elaboradas a partir de dos tipos de uva.\n",
    "\n",
    "### Descripción de las variables:\n",
    "\n",
    "- **type**: tipo de uva con la que se elabora el vino.\n",
    "- **fixed acidity**: cantidad de ácidos no volátiles presentes en el vino, medida en gramos por litro.\n",
    "- **volatile acidity**: cantidad de ácidos volátiles presentes en el vino, medida en gramos por litro. \n",
    "- **citric acid**: contenido de ácido cítrico en el vino, medido en gramos por litro.\n",
    "- **residual sugar**: cantidad de azúcar que queda en el vino después de la fermentación, medida en gramos por litro. \n",
    "- **chlorides**: concentración de cloruros (sales) en el vino, medida en gramos por litro.\n",
    "- **free sulfur dioxide**: cantidad de dióxido de azufre que no está ligado químicamente en el vino, medida en miligramos por litro. \n",
    "- **total sulfur dioxide**: suma del dióxido de azufre libre y el combinado en el vino, medida en miligramos por litro.\n",
    "- **density**: medida de la masa por unidad de volumen del vino, utilizada para estimar la concentración de sólidos disueltos, medida en gramos por centímetro cúbico.\n",
    "- **pH**: medida de la acidez o alcalinidad del vino. \n",
    "- **sulphates**: concentración de sales de sulfato en el vino, medida en gramos por litro. \n",
    "- **alcohol**: contenido alcohólico del vino, medido en porcentaje de volumen (% vol).\n",
    "- **quality**: puntuación del vino, con una escala que va de 0 a 10.\n"
   ]
  },
  {
   "cell_type": "markdown",
   "metadata": {},
   "source": [
    "## Metodología del análisis\n",
    "\n",
    "En esta notebook, vamos a realizar un análisis exploratorio de los datos, siguiendo el orden mostrado a continuación:  \n",
    "\n",
    "**1 -** Preparación del archivo \".csv\"  \n",
    "**2 -** Estudio de los tipos de datos.  \n",
    "**3 -** Estudio de valores nulos.  \n",
    "**4 -** Transformación del dataset.  \n",
    "**5 -** Estudio univariado.  \n",
    "**6 -** Estudio bivariado.  \n",
    "**7 -** Conclusiones.  "
   ]
  },
  {
   "cell_type": "markdown",
   "metadata": {},
   "source": [
    "## Preparación del archivo \".csv\""
   ]
  },
  {
   "cell_type": "markdown",
   "metadata": {},
   "source": [
    "Como para empezar, vemos el archivo _.csv_ no está separado por comas, sino por los punto y coma. Lo abrimos de la forma correspondiente:"
   ]
  },
  {
   "cell_type": "code",
   "execution_count": 1,
   "metadata": {},
   "outputs": [],
   "source": [
    "import pandas as pd\n",
    "\n",
    "raw_ds = pd.read_csv(\"winequality_BR.csv\", sep = ';')"
   ]
  },
  {
   "cell_type": "markdown",
   "metadata": {},
   "source": [
    "Al utilizar la función _head()_, vemos que en el archivo aparecen columnas vacías y sin nombre."
   ]
  },
  {
   "cell_type": "code",
   "execution_count": 2,
   "metadata": {},
   "outputs": [
    {
     "data": {
      "text/html": [
       "<div>\n",
       "<style scoped>\n",
       "    .dataframe tbody tr th:only-of-type {\n",
       "        vertical-align: middle;\n",
       "    }\n",
       "\n",
       "    .dataframe tbody tr th {\n",
       "        vertical-align: top;\n",
       "    }\n",
       "\n",
       "    .dataframe thead th {\n",
       "        text-align: right;\n",
       "    }\n",
       "</style>\n",
       "<table border=\"1\" class=\"dataframe\">\n",
       "  <thead>\n",
       "    <tr style=\"text-align: right;\">\n",
       "      <th></th>\n",
       "      <th>type</th>\n",
       "      <th>fixed acidity</th>\n",
       "      <th>volatile acidity</th>\n",
       "      <th>citric acid</th>\n",
       "      <th>residual sugar</th>\n",
       "      <th>chlorides</th>\n",
       "      <th>free sulfur dioxide</th>\n",
       "      <th>total sulfur dioxide</th>\n",
       "      <th>density</th>\n",
       "      <th>pH</th>\n",
       "      <th>sulphates</th>\n",
       "      <th>alcohol</th>\n",
       "      <th>quality</th>\n",
       "      <th>Unnamed: 13</th>\n",
       "      <th>Unnamed: 14</th>\n",
       "      <th>Unnamed: 15</th>\n",
       "    </tr>\n",
       "  </thead>\n",
       "  <tbody>\n",
       "    <tr>\n",
       "      <th>0</th>\n",
       "      <td>Riesling</td>\n",
       "      <td>7.0</td>\n",
       "      <td>0.27</td>\n",
       "      <td>0.36</td>\n",
       "      <td>20.7</td>\n",
       "      <td>0.045</td>\n",
       "      <td>45.0</td>\n",
       "      <td>170.0</td>\n",
       "      <td>1.0010</td>\n",
       "      <td>3.00</td>\n",
       "      <td>0.45</td>\n",
       "      <td>8.8</td>\n",
       "      <td>6</td>\n",
       "      <td>NaN</td>\n",
       "      <td>NaN</td>\n",
       "      <td>NaN</td>\n",
       "    </tr>\n",
       "    <tr>\n",
       "      <th>1</th>\n",
       "      <td>Riesling</td>\n",
       "      <td>6.3</td>\n",
       "      <td>0.30</td>\n",
       "      <td>0.34</td>\n",
       "      <td>1.6</td>\n",
       "      <td>0.049</td>\n",
       "      <td>14.0</td>\n",
       "      <td>132.0</td>\n",
       "      <td>0.9940</td>\n",
       "      <td>3.30</td>\n",
       "      <td>0.49</td>\n",
       "      <td>9.5</td>\n",
       "      <td>6</td>\n",
       "      <td>NaN</td>\n",
       "      <td>NaN</td>\n",
       "      <td>NaN</td>\n",
       "    </tr>\n",
       "    <tr>\n",
       "      <th>2</th>\n",
       "      <td>Riesling</td>\n",
       "      <td>8.1</td>\n",
       "      <td>0.28</td>\n",
       "      <td>0.40</td>\n",
       "      <td>6.9</td>\n",
       "      <td>0.050</td>\n",
       "      <td>30.0</td>\n",
       "      <td>97.0</td>\n",
       "      <td>0.9951</td>\n",
       "      <td>3.26</td>\n",
       "      <td>0.44</td>\n",
       "      <td>10.1</td>\n",
       "      <td>6</td>\n",
       "      <td>NaN</td>\n",
       "      <td>NaN</td>\n",
       "      <td>NaN</td>\n",
       "    </tr>\n",
       "    <tr>\n",
       "      <th>3</th>\n",
       "      <td>Riesling</td>\n",
       "      <td>7.2</td>\n",
       "      <td>0.23</td>\n",
       "      <td>0.32</td>\n",
       "      <td>8.5</td>\n",
       "      <td>0.058</td>\n",
       "      <td>47.0</td>\n",
       "      <td>186.0</td>\n",
       "      <td>0.9956</td>\n",
       "      <td>3.19</td>\n",
       "      <td>0.40</td>\n",
       "      <td>9.9</td>\n",
       "      <td>6</td>\n",
       "      <td>NaN</td>\n",
       "      <td>NaN</td>\n",
       "      <td>NaN</td>\n",
       "    </tr>\n",
       "    <tr>\n",
       "      <th>4</th>\n",
       "      <td>Riesling</td>\n",
       "      <td>7.2</td>\n",
       "      <td>0.23</td>\n",
       "      <td>0.32</td>\n",
       "      <td>8.5</td>\n",
       "      <td>0.058</td>\n",
       "      <td>47.0</td>\n",
       "      <td>186.0</td>\n",
       "      <td>0.9956</td>\n",
       "      <td>3.19</td>\n",
       "      <td>0.40</td>\n",
       "      <td>9.9</td>\n",
       "      <td>6</td>\n",
       "      <td>NaN</td>\n",
       "      <td>NaN</td>\n",
       "      <td>NaN</td>\n",
       "    </tr>\n",
       "  </tbody>\n",
       "</table>\n",
       "</div>"
      ],
      "text/plain": [
       "       type  fixed acidity  volatile acidity  citric acid  residual sugar  \\\n",
       "0  Riesling            7.0              0.27         0.36            20.7   \n",
       "1  Riesling            6.3              0.30         0.34             1.6   \n",
       "2  Riesling            8.1              0.28         0.40             6.9   \n",
       "3  Riesling            7.2              0.23         0.32             8.5   \n",
       "4  Riesling            7.2              0.23         0.32             8.5   \n",
       "\n",
       "   chlorides  free sulfur dioxide  total sulfur dioxide  density    pH  \\\n",
       "0      0.045                 45.0                 170.0   1.0010  3.00   \n",
       "1      0.049                 14.0                 132.0   0.9940  3.30   \n",
       "2      0.050                 30.0                  97.0   0.9951  3.26   \n",
       "3      0.058                 47.0                 186.0   0.9956  3.19   \n",
       "4      0.058                 47.0                 186.0   0.9956  3.19   \n",
       "\n",
       "   sulphates alcohol  quality  Unnamed: 13  Unnamed: 14 Unnamed: 15  \n",
       "0       0.45     8.8        6          NaN          NaN         NaN  \n",
       "1       0.49     9.5        6          NaN          NaN         NaN  \n",
       "2       0.44    10.1        6          NaN          NaN         NaN  \n",
       "3       0.40     9.9        6          NaN          NaN         NaN  \n",
       "4       0.40     9.9        6          NaN          NaN         NaN  "
      ]
     },
     "execution_count": 2,
     "metadata": {},
     "output_type": "execute_result"
    }
   ],
   "source": [
    "raw_ds.head()"
   ]
  },
  {
   "cell_type": "markdown",
   "metadata": {},
   "source": [
    "Al quitar las columnas con la función _dropna_, pudimos observar que la columna _\"Unnamed: 15\"_ sigue apareciendo. Esto indica que, la misma tiene al menos un valor no nulo."
   ]
  },
  {
   "cell_type": "code",
   "execution_count": 3,
   "metadata": {},
   "outputs": [
    {
     "data": {
      "text/html": [
       "<div>\n",
       "<style scoped>\n",
       "    .dataframe tbody tr th:only-of-type {\n",
       "        vertical-align: middle;\n",
       "    }\n",
       "\n",
       "    .dataframe tbody tr th {\n",
       "        vertical-align: top;\n",
       "    }\n",
       "\n",
       "    .dataframe thead th {\n",
       "        text-align: right;\n",
       "    }\n",
       "</style>\n",
       "<table border=\"1\" class=\"dataframe\">\n",
       "  <thead>\n",
       "    <tr style=\"text-align: right;\">\n",
       "      <th></th>\n",
       "      <th>type</th>\n",
       "      <th>fixed acidity</th>\n",
       "      <th>volatile acidity</th>\n",
       "      <th>citric acid</th>\n",
       "      <th>residual sugar</th>\n",
       "      <th>chlorides</th>\n",
       "      <th>free sulfur dioxide</th>\n",
       "      <th>total sulfur dioxide</th>\n",
       "      <th>density</th>\n",
       "      <th>pH</th>\n",
       "      <th>sulphates</th>\n",
       "      <th>alcohol</th>\n",
       "      <th>quality</th>\n",
       "      <th>Unnamed: 15</th>\n",
       "    </tr>\n",
       "  </thead>\n",
       "  <tbody>\n",
       "    <tr>\n",
       "      <th>0</th>\n",
       "      <td>Riesling</td>\n",
       "      <td>7.0</td>\n",
       "      <td>0.27</td>\n",
       "      <td>0.36</td>\n",
       "      <td>20.7</td>\n",
       "      <td>0.045</td>\n",
       "      <td>45.0</td>\n",
       "      <td>170.0</td>\n",
       "      <td>1.0010</td>\n",
       "      <td>3.00</td>\n",
       "      <td>0.45</td>\n",
       "      <td>8.8</td>\n",
       "      <td>6</td>\n",
       "      <td>NaN</td>\n",
       "    </tr>\n",
       "    <tr>\n",
       "      <th>1</th>\n",
       "      <td>Riesling</td>\n",
       "      <td>6.3</td>\n",
       "      <td>0.30</td>\n",
       "      <td>0.34</td>\n",
       "      <td>1.6</td>\n",
       "      <td>0.049</td>\n",
       "      <td>14.0</td>\n",
       "      <td>132.0</td>\n",
       "      <td>0.9940</td>\n",
       "      <td>3.30</td>\n",
       "      <td>0.49</td>\n",
       "      <td>9.5</td>\n",
       "      <td>6</td>\n",
       "      <td>NaN</td>\n",
       "    </tr>\n",
       "    <tr>\n",
       "      <th>2</th>\n",
       "      <td>Riesling</td>\n",
       "      <td>8.1</td>\n",
       "      <td>0.28</td>\n",
       "      <td>0.40</td>\n",
       "      <td>6.9</td>\n",
       "      <td>0.050</td>\n",
       "      <td>30.0</td>\n",
       "      <td>97.0</td>\n",
       "      <td>0.9951</td>\n",
       "      <td>3.26</td>\n",
       "      <td>0.44</td>\n",
       "      <td>10.1</td>\n",
       "      <td>6</td>\n",
       "      <td>NaN</td>\n",
       "    </tr>\n",
       "    <tr>\n",
       "      <th>3</th>\n",
       "      <td>Riesling</td>\n",
       "      <td>7.2</td>\n",
       "      <td>0.23</td>\n",
       "      <td>0.32</td>\n",
       "      <td>8.5</td>\n",
       "      <td>0.058</td>\n",
       "      <td>47.0</td>\n",
       "      <td>186.0</td>\n",
       "      <td>0.9956</td>\n",
       "      <td>3.19</td>\n",
       "      <td>0.40</td>\n",
       "      <td>9.9</td>\n",
       "      <td>6</td>\n",
       "      <td>NaN</td>\n",
       "    </tr>\n",
       "    <tr>\n",
       "      <th>4</th>\n",
       "      <td>Riesling</td>\n",
       "      <td>7.2</td>\n",
       "      <td>0.23</td>\n",
       "      <td>0.32</td>\n",
       "      <td>8.5</td>\n",
       "      <td>0.058</td>\n",
       "      <td>47.0</td>\n",
       "      <td>186.0</td>\n",
       "      <td>0.9956</td>\n",
       "      <td>3.19</td>\n",
       "      <td>0.40</td>\n",
       "      <td>9.9</td>\n",
       "      <td>6</td>\n",
       "      <td>NaN</td>\n",
       "    </tr>\n",
       "  </tbody>\n",
       "</table>\n",
       "</div>"
      ],
      "text/plain": [
       "       type  fixed acidity  volatile acidity  citric acid  residual sugar  \\\n",
       "0  Riesling            7.0              0.27         0.36            20.7   \n",
       "1  Riesling            6.3              0.30         0.34             1.6   \n",
       "2  Riesling            8.1              0.28         0.40             6.9   \n",
       "3  Riesling            7.2              0.23         0.32             8.5   \n",
       "4  Riesling            7.2              0.23         0.32             8.5   \n",
       "\n",
       "   chlorides  free sulfur dioxide  total sulfur dioxide  density    pH  \\\n",
       "0      0.045                 45.0                 170.0   1.0010  3.00   \n",
       "1      0.049                 14.0                 132.0   0.9940  3.30   \n",
       "2      0.050                 30.0                  97.0   0.9951  3.26   \n",
       "3      0.058                 47.0                 186.0   0.9956  3.19   \n",
       "4      0.058                 47.0                 186.0   0.9956  3.19   \n",
       "\n",
       "   sulphates alcohol  quality Unnamed: 15  \n",
       "0       0.45     8.8        6         NaN  \n",
       "1       0.49     9.5        6         NaN  \n",
       "2       0.44    10.1        6         NaN  \n",
       "3       0.40     9.9        6         NaN  \n",
       "4       0.40     9.9        6         NaN  "
      ]
     },
     "execution_count": 3,
     "metadata": {},
     "output_type": "execute_result"
    }
   ],
   "source": [
    "raw_ds = raw_ds.dropna(axis=1, how='all')\n",
    "raw_ds.head()"
   ]
  },
  {
   "cell_type": "markdown",
   "metadata": {},
   "source": [
    "Utilizando la función de _value_counts()_ vemos cuál es el valor no nulo y cuántos de estos hay."
   ]
  },
  {
   "cell_type": "code",
   "execution_count": 4,
   "metadata": {},
   "outputs": [
    {
     "data": {
      "text/plain": [
       "Unnamed: 15\n",
       "Riesling    1\n",
       "Name: count, dtype: int64"
      ]
     },
     "execution_count": 4,
     "metadata": {},
     "output_type": "execute_result"
    }
   ],
   "source": [
    "raw_ds[\"Unnamed: 15\"].value_counts()"
   ]
  },
  {
   "cell_type": "markdown",
   "metadata": {},
   "source": [
    "Dado que, el valor no nulo de la columna _Unnamed: 15_ es igual a uno de los valores de la columna _type_, comprobamos que, no haya datos faltantes en esta última porque quizá podría haber ocurrido un error que cause este \"desplazamiento\" del dato."
   ]
  },
  {
   "cell_type": "code",
   "execution_count": 5,
   "metadata": {},
   "outputs": [
    {
     "name": "stdout",
     "output_type": "stream",
     "text": [
      "La cantidad de valores nulos de type es: 0\n"
     ]
    }
   ],
   "source": [
    "cant_nulos = raw_ds[\"type\"].isna().sum()\n",
    "print(f\"La cantidad de valores nulos de type es: {cant_nulos}\")"
   ]
  },
  {
   "cell_type": "markdown",
   "metadata": {},
   "source": [
    "Sin embargo, que no haya valores nulos, no significa que no haya datos erróneos, por lo que miramos cuáles son los datos que contiene la columna type."
   ]
  },
  {
   "cell_type": "code",
   "execution_count": 6,
   "metadata": {},
   "outputs": [
    {
     "data": {
      "text/plain": [
       "type\n",
       "Riesling    1633\n",
       "Garnacha    1599\n",
       "Name: count, dtype: int64"
      ]
     },
     "execution_count": 6,
     "metadata": {},
     "output_type": "execute_result"
    }
   ],
   "source": [
    "raw_ds[\"type\"].value_counts()"
   ]
  },
  {
   "cell_type": "markdown",
   "metadata": {},
   "source": [
    "Como última confirmación, vemos cómo son el resto de atributos para tal observación."
   ]
  },
  {
   "cell_type": "code",
   "execution_count": 7,
   "metadata": {},
   "outputs": [
    {
     "data": {
      "text/html": [
       "<div>\n",
       "<style scoped>\n",
       "    .dataframe tbody tr th:only-of-type {\n",
       "        vertical-align: middle;\n",
       "    }\n",
       "\n",
       "    .dataframe tbody tr th {\n",
       "        vertical-align: top;\n",
       "    }\n",
       "\n",
       "    .dataframe thead th {\n",
       "        text-align: right;\n",
       "    }\n",
       "</style>\n",
       "<table border=\"1\" class=\"dataframe\">\n",
       "  <thead>\n",
       "    <tr style=\"text-align: right;\">\n",
       "      <th></th>\n",
       "      <th>type</th>\n",
       "      <th>fixed acidity</th>\n",
       "      <th>volatile acidity</th>\n",
       "      <th>citric acid</th>\n",
       "      <th>residual sugar</th>\n",
       "      <th>chlorides</th>\n",
       "      <th>free sulfur dioxide</th>\n",
       "      <th>total sulfur dioxide</th>\n",
       "      <th>density</th>\n",
       "      <th>pH</th>\n",
       "      <th>sulphates</th>\n",
       "      <th>alcohol</th>\n",
       "      <th>quality</th>\n",
       "      <th>Unnamed: 15</th>\n",
       "    </tr>\n",
       "  </thead>\n",
       "  <tbody>\n",
       "    <tr>\n",
       "      <th>1626</th>\n",
       "      <td>Riesling</td>\n",
       "      <td>9.0</td>\n",
       "      <td>0.22</td>\n",
       "      <td>0.49</td>\n",
       "      <td>10.4</td>\n",
       "      <td>0.048</td>\n",
       "      <td>52.0</td>\n",
       "      <td>195.0</td>\n",
       "      <td>0.9987</td>\n",
       "      <td>3.31</td>\n",
       "      <td>0.44</td>\n",
       "      <td>10.2</td>\n",
       "      <td>6</td>\n",
       "      <td>Riesling</td>\n",
       "    </tr>\n",
       "  </tbody>\n",
       "</table>\n",
       "</div>"
      ],
      "text/plain": [
       "          type  fixed acidity  volatile acidity  citric acid  residual sugar  \\\n",
       "1626  Riesling            9.0              0.22         0.49            10.4   \n",
       "\n",
       "      chlorides  free sulfur dioxide  total sulfur dioxide  density    pH  \\\n",
       "1626      0.048                 52.0                 195.0   0.9987  3.31   \n",
       "\n",
       "      sulphates alcohol  quality Unnamed: 15  \n",
       "1626       0.44    10.2        6    Riesling  "
      ]
     },
     "execution_count": 7,
     "metadata": {},
     "output_type": "execute_result"
    }
   ],
   "source": [
    "observacion = raw_ds[raw_ds[\"Unnamed: 15\"].str.lower() == 'riesling']\n",
    "observacion"
   ]
  },
  {
   "cell_type": "markdown",
   "metadata": {},
   "source": [
    "Habiendo comprobado que tampoco difiere la variable _type_ de la desconocida en este registro, procedemos borrando la columna que no aporta ningún tipo de información. "
   ]
  },
  {
   "cell_type": "code",
   "execution_count": 8,
   "metadata": {},
   "outputs": [
    {
     "data": {
      "text/html": [
       "<div>\n",
       "<style scoped>\n",
       "    .dataframe tbody tr th:only-of-type {\n",
       "        vertical-align: middle;\n",
       "    }\n",
       "\n",
       "    .dataframe tbody tr th {\n",
       "        vertical-align: top;\n",
       "    }\n",
       "\n",
       "    .dataframe thead th {\n",
       "        text-align: right;\n",
       "    }\n",
       "</style>\n",
       "<table border=\"1\" class=\"dataframe\">\n",
       "  <thead>\n",
       "    <tr style=\"text-align: right;\">\n",
       "      <th></th>\n",
       "      <th>type</th>\n",
       "      <th>fixed acidity</th>\n",
       "      <th>volatile acidity</th>\n",
       "      <th>citric acid</th>\n",
       "      <th>residual sugar</th>\n",
       "      <th>chlorides</th>\n",
       "      <th>free sulfur dioxide</th>\n",
       "      <th>total sulfur dioxide</th>\n",
       "      <th>density</th>\n",
       "      <th>pH</th>\n",
       "      <th>sulphates</th>\n",
       "      <th>alcohol</th>\n",
       "      <th>quality</th>\n",
       "    </tr>\n",
       "  </thead>\n",
       "  <tbody>\n",
       "    <tr>\n",
       "      <th>0</th>\n",
       "      <td>Riesling</td>\n",
       "      <td>7.0</td>\n",
       "      <td>0.27</td>\n",
       "      <td>0.36</td>\n",
       "      <td>20.7</td>\n",
       "      <td>0.045</td>\n",
       "      <td>45.0</td>\n",
       "      <td>170.0</td>\n",
       "      <td>1.0010</td>\n",
       "      <td>3.00</td>\n",
       "      <td>0.45</td>\n",
       "      <td>8.8</td>\n",
       "      <td>6</td>\n",
       "    </tr>\n",
       "    <tr>\n",
       "      <th>1</th>\n",
       "      <td>Riesling</td>\n",
       "      <td>6.3</td>\n",
       "      <td>0.30</td>\n",
       "      <td>0.34</td>\n",
       "      <td>1.6</td>\n",
       "      <td>0.049</td>\n",
       "      <td>14.0</td>\n",
       "      <td>132.0</td>\n",
       "      <td>0.9940</td>\n",
       "      <td>3.30</td>\n",
       "      <td>0.49</td>\n",
       "      <td>9.5</td>\n",
       "      <td>6</td>\n",
       "    </tr>\n",
       "    <tr>\n",
       "      <th>2</th>\n",
       "      <td>Riesling</td>\n",
       "      <td>8.1</td>\n",
       "      <td>0.28</td>\n",
       "      <td>0.40</td>\n",
       "      <td>6.9</td>\n",
       "      <td>0.050</td>\n",
       "      <td>30.0</td>\n",
       "      <td>97.0</td>\n",
       "      <td>0.9951</td>\n",
       "      <td>3.26</td>\n",
       "      <td>0.44</td>\n",
       "      <td>10.1</td>\n",
       "      <td>6</td>\n",
       "    </tr>\n",
       "    <tr>\n",
       "      <th>3</th>\n",
       "      <td>Riesling</td>\n",
       "      <td>7.2</td>\n",
       "      <td>0.23</td>\n",
       "      <td>0.32</td>\n",
       "      <td>8.5</td>\n",
       "      <td>0.058</td>\n",
       "      <td>47.0</td>\n",
       "      <td>186.0</td>\n",
       "      <td>0.9956</td>\n",
       "      <td>3.19</td>\n",
       "      <td>0.40</td>\n",
       "      <td>9.9</td>\n",
       "      <td>6</td>\n",
       "    </tr>\n",
       "    <tr>\n",
       "      <th>4</th>\n",
       "      <td>Riesling</td>\n",
       "      <td>7.2</td>\n",
       "      <td>0.23</td>\n",
       "      <td>0.32</td>\n",
       "      <td>8.5</td>\n",
       "      <td>0.058</td>\n",
       "      <td>47.0</td>\n",
       "      <td>186.0</td>\n",
       "      <td>0.9956</td>\n",
       "      <td>3.19</td>\n",
       "      <td>0.40</td>\n",
       "      <td>9.9</td>\n",
       "      <td>6</td>\n",
       "    </tr>\n",
       "  </tbody>\n",
       "</table>\n",
       "</div>"
      ],
      "text/plain": [
       "       type  fixed acidity  volatile acidity  citric acid  residual sugar  \\\n",
       "0  Riesling            7.0              0.27         0.36            20.7   \n",
       "1  Riesling            6.3              0.30         0.34             1.6   \n",
       "2  Riesling            8.1              0.28         0.40             6.9   \n",
       "3  Riesling            7.2              0.23         0.32             8.5   \n",
       "4  Riesling            7.2              0.23         0.32             8.5   \n",
       "\n",
       "   chlorides  free sulfur dioxide  total sulfur dioxide  density    pH  \\\n",
       "0      0.045                 45.0                 170.0   1.0010  3.00   \n",
       "1      0.049                 14.0                 132.0   0.9940  3.30   \n",
       "2      0.050                 30.0                  97.0   0.9951  3.26   \n",
       "3      0.058                 47.0                 186.0   0.9956  3.19   \n",
       "4      0.058                 47.0                 186.0   0.9956  3.19   \n",
       "\n",
       "   sulphates alcohol  quality  \n",
       "0       0.45     8.8        6  \n",
       "1       0.49     9.5        6  \n",
       "2       0.44    10.1        6  \n",
       "3       0.40     9.9        6  \n",
       "4       0.40     9.9        6  "
      ]
     },
     "execution_count": 8,
     "metadata": {},
     "output_type": "execute_result"
    }
   ],
   "source": [
    "raw_ds = raw_ds.drop(columns=\"Unnamed: 15\", axis=1)\n",
    "raw_ds.head()"
   ]
  },
  {
   "cell_type": "markdown",
   "metadata": {},
   "source": [
    "## Estudio de los tipos de datos y unidades "
   ]
  },
  {
   "cell_type": "markdown",
   "metadata": {},
   "source": [
    "Comenzamos clasificando por tipo de dato a cada una de las _features_ del dataset:\n",
    "\n",
    "**- type:** dato cualitativo nominal.   \n",
    "**- fixed_acidity:** dato cuantitativo continuo.  \n",
    "**- volatile_acidity:** dato cuantitativo contiunuo.  \n",
    "**- citric acid:** dato cuantitativo continuo.  \n",
    "**- residual sugar:** dato cuantitativo continuo.  \n",
    "**- chlorides:** dato cuantitativo continuo.  \n",
    "**- free sulfur dioxide:** dato cuantitativo continuo.   \n",
    "**- total sulfur dioxide:** dato cuantitativo continuo.    \n",
    "**- density:** dato cuantitativo continuo.  \n",
    "**- pH:** dato cuantitativo continuo.  \n",
    "**- sulphates:** tipo de dato cuantiativo continuo.  \n",
    "**- alcohol:** tipo de dato cuantitativo continuo.  \n",
    "**- quality:** tipo de dato cualitativa ordinal.  "
   ]
  },
  {
   "cell_type": "markdown",
   "metadata": {},
   "source": [
    "Utilizando la  función _info_, podemos comparar los tipos de los datos definidos anteriormente, con los de Python. De esta manera, corregimos las discrepancias."
   ]
  },
  {
   "cell_type": "code",
   "execution_count": 9,
   "metadata": {},
   "outputs": [
    {
     "name": "stdout",
     "output_type": "stream",
     "text": [
      "<class 'pandas.core.frame.DataFrame'>\n",
      "RangeIndex: 3232 entries, 0 to 3231\n",
      "Data columns (total 13 columns):\n",
      " #   Column                Non-Null Count  Dtype  \n",
      "---  ------                --------------  -----  \n",
      " 0   type                  3232 non-null   object \n",
      " 1   fixed acidity         3232 non-null   float64\n",
      " 2   volatile acidity      3232 non-null   float64\n",
      " 3   citric acid           3232 non-null   float64\n",
      " 4   residual sugar        3232 non-null   float64\n",
      " 5   chlorides             3232 non-null   float64\n",
      " 6   free sulfur dioxide   3232 non-null   float64\n",
      " 7   total sulfur dioxide  3232 non-null   float64\n",
      " 8   density               3232 non-null   float64\n",
      " 9   pH                    3232 non-null   float64\n",
      " 10  sulphates             3232 non-null   float64\n",
      " 11  alcohol               3232 non-null   object \n",
      " 12  quality               3232 non-null   int64  \n",
      "dtypes: float64(10), int64(1), object(2)\n",
      "memory usage: 328.4+ KB\n"
     ]
    }
   ],
   "source": [
    "raw_ds.info()"
   ]
  },
  {
   "cell_type": "markdown",
   "metadata": {},
   "source": [
    "Como podemos observar, el feature \"alcohol\" lo definimos como un dato cuantitativo continuo, pero, en el dataset aparece como un _object_. Por lo tanto, lo castearemos como _float64_"
   ]
  },
  {
   "cell_type": "code",
   "execution_count": 10,
   "metadata": {},
   "outputs": [
    {
     "name": "stdout",
     "output_type": "stream",
     "text": [
      "No se pudo convertir el dato a float64\n"
     ]
    }
   ],
   "source": [
    "#arrancamos haciendo una copia\n",
    "preprocessed_ds = raw_ds.copy()\n",
    "\n",
    "try:\n",
    "    preprocessed_ds[\"alcohol\"] = preprocessed_ds[\"alcohol\"].astype(float)\n",
    "    print(\"Fue en éxito\")\n",
    "except ValueError :\n",
    "    print(\"No se pudo convertir el dato a float64\")"
   ]
  },
  {
   "cell_type": "markdown",
   "metadata": {},
   "source": [
    "La ejecución del casting dió un error, esto quiere decir que hay datos en la columna de _alcohol_ que no concuerdan con el tipo de dato _float64_. Vemos con _value_counts_ qué valores hay en la columna:"
   ]
  },
  {
   "cell_type": "code",
   "execution_count": 11,
   "metadata": {},
   "outputs": [
    {
     "data": {
      "text/html": [
       "<div>\n",
       "<style scoped>\n",
       "    .dataframe tbody tr th:only-of-type {\n",
       "        vertical-align: middle;\n",
       "    }\n",
       "\n",
       "    .dataframe tbody tr th {\n",
       "        vertical-align: top;\n",
       "    }\n",
       "\n",
       "    .dataframe thead th {\n",
       "        text-align: right;\n",
       "    }\n",
       "</style>\n",
       "<table border=\"1\" class=\"dataframe\">\n",
       "  <thead>\n",
       "    <tr style=\"text-align: right;\">\n",
       "      <th></th>\n",
       "      <th>type</th>\n",
       "      <th>fixed acidity</th>\n",
       "      <th>volatile acidity</th>\n",
       "      <th>citric acid</th>\n",
       "      <th>residual sugar</th>\n",
       "      <th>chlorides</th>\n",
       "      <th>free sulfur dioxide</th>\n",
       "      <th>total sulfur dioxide</th>\n",
       "      <th>density</th>\n",
       "      <th>pH</th>\n",
       "      <th>sulphates</th>\n",
       "      <th>alcohol</th>\n",
       "      <th>quality</th>\n",
       "    </tr>\n",
       "  </thead>\n",
       "  <tbody>\n",
       "    <tr>\n",
       "      <th>2992</th>\n",
       "      <td>Garnacha</td>\n",
       "      <td>11.6</td>\n",
       "      <td>0.475</td>\n",
       "      <td>0.40</td>\n",
       "      <td>1.4</td>\n",
       "      <td>0.091</td>\n",
       "      <td>6.0</td>\n",
       "      <td>28.0</td>\n",
       "      <td>0.99704</td>\n",
       "      <td>3.07</td>\n",
       "      <td>0.65</td>\n",
       "      <td>100.333.333.333.333</td>\n",
       "      <td>6</td>\n",
       "    </tr>\n",
       "    <tr>\n",
       "      <th>2995</th>\n",
       "      <td>Garnacha</td>\n",
       "      <td>11.6</td>\n",
       "      <td>0.475</td>\n",
       "      <td>0.40</td>\n",
       "      <td>1.4</td>\n",
       "      <td>0.091</td>\n",
       "      <td>6.0</td>\n",
       "      <td>28.0</td>\n",
       "      <td>0.99704</td>\n",
       "      <td>3.07</td>\n",
       "      <td>0.65</td>\n",
       "      <td>100.333.333.333.333</td>\n",
       "      <td>6</td>\n",
       "    </tr>\n",
       "    <tr>\n",
       "      <th>3072</th>\n",
       "      <td>Garnacha</td>\n",
       "      <td>7.3</td>\n",
       "      <td>0.670</td>\n",
       "      <td>0.02</td>\n",
       "      <td>2.2</td>\n",
       "      <td>0.072</td>\n",
       "      <td>31.0</td>\n",
       "      <td>92.0</td>\n",
       "      <td>0.99566</td>\n",
       "      <td>3.32</td>\n",
       "      <td>0.68</td>\n",
       "      <td>110.666.666.666.667</td>\n",
       "      <td>6</td>\n",
       "    </tr>\n",
       "    <tr>\n",
       "      <th>3074</th>\n",
       "      <td>Garnacha</td>\n",
       "      <td>7.4</td>\n",
       "      <td>0.785</td>\n",
       "      <td>0.19</td>\n",
       "      <td>5.2</td>\n",
       "      <td>0.094</td>\n",
       "      <td>19.0</td>\n",
       "      <td>98.0</td>\n",
       "      <td>0.99713</td>\n",
       "      <td>3.16</td>\n",
       "      <td>0.52</td>\n",
       "      <td>956.666.666.666.667</td>\n",
       "      <td>6</td>\n",
       "    </tr>\n",
       "    <tr>\n",
       "      <th>3108</th>\n",
       "      <td>Garnacha</td>\n",
       "      <td>5.3</td>\n",
       "      <td>0.470</td>\n",
       "      <td>0.11</td>\n",
       "      <td>2.2</td>\n",
       "      <td>0.048</td>\n",
       "      <td>16.0</td>\n",
       "      <td>89.0</td>\n",
       "      <td>0.99182</td>\n",
       "      <td>3.54</td>\n",
       "      <td>0.88</td>\n",
       "      <td>135.666.666.666.667</td>\n",
       "      <td>7</td>\n",
       "    </tr>\n",
       "    <tr>\n",
       "      <th>3147</th>\n",
       "      <td>Garnacha</td>\n",
       "      <td>6.9</td>\n",
       "      <td>0.840</td>\n",
       "      <td>0.21</td>\n",
       "      <td>4.1</td>\n",
       "      <td>0.074</td>\n",
       "      <td>16.0</td>\n",
       "      <td>65.0</td>\n",
       "      <td>0.99842</td>\n",
       "      <td>3.53</td>\n",
       "      <td>0.72</td>\n",
       "      <td>923.333.333.333.333</td>\n",
       "      <td>6</td>\n",
       "    </tr>\n",
       "  </tbody>\n",
       "</table>\n",
       "</div>"
      ],
      "text/plain": [
       "          type  fixed acidity  volatile acidity  citric acid  residual sugar  \\\n",
       "2992  Garnacha           11.6             0.475         0.40             1.4   \n",
       "2995  Garnacha           11.6             0.475         0.40             1.4   \n",
       "3072  Garnacha            7.3             0.670         0.02             2.2   \n",
       "3074  Garnacha            7.4             0.785         0.19             5.2   \n",
       "3108  Garnacha            5.3             0.470         0.11             2.2   \n",
       "3147  Garnacha            6.9             0.840         0.21             4.1   \n",
       "\n",
       "      chlorides  free sulfur dioxide  total sulfur dioxide  density    pH  \\\n",
       "2992      0.091                  6.0                  28.0  0.99704  3.07   \n",
       "2995      0.091                  6.0                  28.0  0.99704  3.07   \n",
       "3072      0.072                 31.0                  92.0  0.99566  3.32   \n",
       "3074      0.094                 19.0                  98.0  0.99713  3.16   \n",
       "3108      0.048                 16.0                  89.0  0.99182  3.54   \n",
       "3147      0.074                 16.0                  65.0  0.99842  3.53   \n",
       "\n",
       "      sulphates              alcohol  quality  \n",
       "2992       0.65  100.333.333.333.333        6  \n",
       "2995       0.65  100.333.333.333.333        6  \n",
       "3072       0.68  110.666.666.666.667        6  \n",
       "3074       0.52  956.666.666.666.667        6  \n",
       "3108       0.88  135.666.666.666.667        7  \n",
       "3147       0.72  923.333.333.333.333        6  "
      ]
     },
     "execution_count": 11,
     "metadata": {},
     "output_type": "execute_result"
    }
   ],
   "source": [
    "# coerce, reemplaza los errores por NaN\n",
    "df_con_errores = preprocessed_ds[preprocessed_ds[\"alcohol\"].apply(lambda x: pd.to_numeric(x, errors='coerce')).isna()] \n",
    "df_con_errores"
   ]
  },
  {
   "cell_type": "markdown",
   "metadata": {},
   "source": [
    "Estos valores que no podemos convertir a _float64_, no son siquiera números o valores extremos (los miles se separan con comas en inglés). Si miramos el resto de atributos no aparece nada raro. Dado que son pocos, podríamos borrarlos porque no sesgarían la muestra. Sin embargo, no sería raro intuir que un hubo un problema con la carga de los decimales periódicos, más que nada por el \"redondeo\" de los supuestos \"seis períodicos\" a siete.   \n",
    "A su vez, para la corrección habría que tener en cuenta que, el grado de alcohol del vino ronda entre el 5% y el 20%, y esto hace que no haya ambigüedades a la hora de elegir donde comienzan los decimales. Además, los valores resultantes son cercanos a la mediana y media..."
   ]
  },
  {
   "cell_type": "code",
   "execution_count": 12,
   "metadata": {},
   "outputs": [
    {
     "data": {
      "text/plain": [
       "count    3226.000000\n",
       "mean       10.355998\n",
       "std         1.099261\n",
       "min         8.400000\n",
       "25%         9.500000\n",
       "50%        10.100000\n",
       "75%        11.000000\n",
       "max        14.900000\n",
       "Name: alcohol, dtype: float64"
      ]
     },
     "execution_count": 12,
     "metadata": {},
     "output_type": "execute_result"
    }
   ],
   "source": [
    "df_sin_errores = preprocessed_ds[preprocessed_ds[\"alcohol\"].apply(lambda x: pd.to_numeric(x, errors='coerce')).isna() == False]\n",
    "df_sin_errores[\"alcohol\"].astype(float).describe()"
   ]
  },
  {
   "cell_type": "markdown",
   "metadata": {},
   "source": [
    "Por lo tanto, procedemos reemplazando los valores:"
   ]
  },
  {
   "cell_type": "code",
   "execution_count": 13,
   "metadata": {},
   "outputs": [
    {
     "data": {
      "text/html": [
       "<div>\n",
       "<style scoped>\n",
       "    .dataframe tbody tr th:only-of-type {\n",
       "        vertical-align: middle;\n",
       "    }\n",
       "\n",
       "    .dataframe tbody tr th {\n",
       "        vertical-align: top;\n",
       "    }\n",
       "\n",
       "    .dataframe thead th {\n",
       "        text-align: right;\n",
       "    }\n",
       "</style>\n",
       "<table border=\"1\" class=\"dataframe\">\n",
       "  <thead>\n",
       "    <tr style=\"text-align: right;\">\n",
       "      <th></th>\n",
       "      <th>type</th>\n",
       "      <th>fixed acidity</th>\n",
       "      <th>volatile acidity</th>\n",
       "      <th>citric acid</th>\n",
       "      <th>residual sugar</th>\n",
       "      <th>chlorides</th>\n",
       "      <th>free sulfur dioxide</th>\n",
       "      <th>total sulfur dioxide</th>\n",
       "      <th>density</th>\n",
       "      <th>pH</th>\n",
       "      <th>sulphates</th>\n",
       "      <th>alcohol</th>\n",
       "      <th>quality</th>\n",
       "    </tr>\n",
       "  </thead>\n",
       "  <tbody>\n",
       "  </tbody>\n",
       "</table>\n",
       "</div>"
      ],
      "text/plain": [
       "Empty DataFrame\n",
       "Columns: [type, fixed acidity, volatile acidity, citric acid, residual sugar, chlorides, free sulfur dioxide, total sulfur dioxide, density, pH, sulphates, alcohol, quality]\n",
       "Index: []"
      ]
     },
     "execution_count": 13,
     "metadata": {},
     "output_type": "execute_result"
    }
   ],
   "source": [
    "# hacemos los reemplazos\n",
    "preprocessed_ds[\"alcohol\"] = preprocessed_ds[\"alcohol\"].replace(\"100.333.333.333.333\", \"10.03\")\n",
    "preprocessed_ds[\"alcohol\"] = preprocessed_ds[\"alcohol\"].replace(\"923.333.333.333.333\", \"9.23\")\n",
    "preprocessed_ds[\"alcohol\"] = preprocessed_ds[\"alcohol\"].replace(\"110.666.666.666.667\", \"11.07\")\n",
    "preprocessed_ds[\"alcohol\"] = preprocessed_ds[\"alcohol\"].replace(\"956.666.666.666.667\", \"9.57\")\n",
    "preprocessed_ds[\"alcohol\"] = preprocessed_ds[\"alcohol\"].replace(\"135.666.666.666.667\", \"13.57\")\n",
    "\n",
    "# hacemos la conversion\n",
    "preprocessed_ds[\"alcohol\"] = preprocessed_ds[\"alcohol\"].astype(float)\n",
    "\n",
    "# repitiendo lo mismo de antes para cerciorarse\n",
    "df_con_errores = preprocessed_ds[preprocessed_ds[\"alcohol\"].apply(lambda x: pd.to_numeric(x, errors='coerce')).isna()]\n",
    "df_con_errores"
   ]
  },
  {
   "cell_type": "markdown",
   "metadata": {},
   "source": [
    "## Estudio de valores nulos"
   ]
  },
  {
   "cell_type": "markdown",
   "metadata": {},
   "source": [
    "Primeramente, vamos a ver cuántos nulos hay por cada varaible del dataset."
   ]
  },
  {
   "cell_type": "code",
   "execution_count": 14,
   "metadata": {},
   "outputs": [
    {
     "name": "stdout",
     "output_type": "stream",
     "text": [
      "La variable...\n",
      " -> 'type' tiene 0 valores nulos.\n",
      " -> 'fixed acidity' tiene 0 valores nulos.\n",
      " -> 'volatile acidity' tiene 0 valores nulos.\n",
      " -> 'citric acid' tiene 0 valores nulos.\n",
      " -> 'residual sugar' tiene 0 valores nulos.\n",
      " -> 'chlorides' tiene 0 valores nulos.\n",
      " -> 'free sulfur dioxide' tiene 0 valores nulos.\n",
      " -> 'total sulfur dioxide' tiene 0 valores nulos.\n",
      " -> 'density' tiene 0 valores nulos.\n",
      " -> 'pH' tiene 0 valores nulos.\n",
      " -> 'sulphates' tiene 0 valores nulos.\n",
      " -> 'alcohol' tiene 0 valores nulos.\n",
      " -> 'quality' tiene 0 valores nulos.\n"
     ]
    }
   ],
   "source": [
    "print(\"La variable...\")\n",
    "for columna in preprocessed_ds.columns:\n",
    "    cantidad_nulos = preprocessed_ds[columna].isnull().sum()\n",
    "    print(f\" -> '{columna}' tiene {cantidad_nulos} valores nulos.\")"
   ]
  },
  {
   "cell_type": "markdown",
   "metadata": {},
   "source": [
    "Viendo que las _features_ no tienen nulos, intentaremos detectar aquellos valores que deberían ser reemplazados por nulos, como por ejemplo, los \"discernibles\". Antes que nada, generamos un reporte para complementar el análisis:"
   ]
  },
  {
   "cell_type": "code",
   "execution_count": 15,
   "metadata": {},
   "outputs": [],
   "source": [
    "from ydata_profiling import ProfileReport\n",
    "\n",
    "# report = ProfileReport(preprocessed_ds)\n",
    "# report.to_notebook_iframe()"
   ]
  },
  {
   "cell_type": "markdown",
   "metadata": {},
   "source": [
    "  \n",
    "Ahora si, continuamos con el análisis:"
   ]
  },
  {
   "cell_type": "code",
   "execution_count": 16,
   "metadata": {},
   "outputs": [
    {
     "data": {
      "text/plain": [
       "type\n",
       "Riesling    1633\n",
       "Garnacha    1599\n",
       "Name: count, dtype: int64"
      ]
     },
     "execution_count": 16,
     "metadata": {},
     "output_type": "execute_result"
    }
   ],
   "source": [
    "preprocessed_ds[\"type\"].value_counts()"
   ]
  },
  {
   "cell_type": "markdown",
   "metadata": {},
   "source": [
    "<font size=\"3\"> - _No parece haber nada raro en esta feature_"
   ]
  },
  {
   "cell_type": "code",
   "execution_count": 17,
   "metadata": {},
   "outputs": [
    {
     "data": {
      "text/plain": [
       "1678     4.6\n",
       "1728     4.7\n",
       "862      4.8\n",
       "864      4.8\n",
       "2454     4.9\n",
       "        ... \n",
       "2187    15.5\n",
       "2188    15.5\n",
       "2190    15.6\n",
       "2075    15.6\n",
       "2285    15.9\n",
       "Name: fixed acidity, Length: 3232, dtype: float64"
      ]
     },
     "execution_count": 17,
     "metadata": {},
     "output_type": "execute_result"
    }
   ],
   "source": [
    "preprocessed_ds[\"fixed acidity\"].sort_values(ascending=True)"
   ]
  },
  {
   "cell_type": "markdown",
   "metadata": {},
   "source": [
    "<font size=\"3\"> - _No parece haber nada raro en esta feature ya que no hay valores que no puedan verse en el mundo real._"
   ]
  },
  {
   "cell_type": "code",
   "execution_count": 18,
   "metadata": {},
   "outputs": [
    {
     "data": {
      "text/plain": [
       "973     0.080\n",
       "1475    0.080\n",
       "1480    0.080\n",
       "968     0.080\n",
       "530     0.100\n",
       "        ...  \n",
       "2323    1.185\n",
       "2305    1.240\n",
       "1759    1.330\n",
       "1760    1.330\n",
       "2932    1.580\n",
       "Name: volatile acidity, Length: 3232, dtype: float64"
      ]
     },
     "execution_count": 18,
     "metadata": {},
     "output_type": "execute_result"
    }
   ],
   "source": [
    "preprocessed_ds[\"volatile acidity\"].sort_values(ascending=True)"
   ]
  },
  {
   "cell_type": "markdown",
   "metadata": {},
   "source": [
    "<font size=\"3\"> - _No parece haber nada raro en esta feature ya que no hay valores que no puedan verse en el mundo real._"
   ]
  },
  {
   "cell_type": "code",
   "execution_count": 19,
   "metadata": {},
   "outputs": [
    {
     "data": {
      "text/plain": [
       "2787    0.00\n",
       "1882    0.00\n",
       "2763    0.00\n",
       "2954    0.00\n",
       "3048    0.00\n",
       "        ... \n",
       "207     0.88\n",
       "1551    0.99\n",
       "946     1.00\n",
       "1784    1.00\n",
       "745     1.66\n",
       "Name: citric acid, Length: 3232, dtype: float64"
      ]
     },
     "execution_count": 19,
     "metadata": {},
     "output_type": "execute_result"
    }
   ],
   "source": [
    "preprocessed_ds[\"citric acid\"].sort_values(ascending=True)"
   ]
  },
  {
   "cell_type": "markdown",
   "metadata": {},
   "source": [
    "Cuando vemos los valores de la variable _citric acid_, notamos que hay ceros, y mirando el reporte aparece una alerta. Estos podrían ser tomados como valores reales, ya que es posible encontrar vinos donde específicamente los niveles de acido cítrico se reducen durante la fermentación hasta desaparecer, por lo que no se pueden corregir.  \n",
    "Otro problema que surge del ácido cítrico es el outlier que aparece tanto en el reporte como en el \"sort_values\" cuyo valor es 1.66. Tal valor es un extremo muy raro porque existen asociaciones en distintos lugares del mundo que prohiben ácidos cítricos mayores a 1 g/L en el vino, como por ejemplo, la Unión Europea y el Mercosur. Sin ir más lejos, el ácido cítrico puede usarse de forma fraudulenta en los vinos y su exceso arruina la calidad del producto. Analizamos el resto de atributos de dicha observacion."
   ]
  },
  {
   "cell_type": "code",
   "execution_count": 20,
   "metadata": {},
   "outputs": [
    {
     "data": {
      "text/html": [
       "<div>\n",
       "<style scoped>\n",
       "    .dataframe tbody tr th:only-of-type {\n",
       "        vertical-align: middle;\n",
       "    }\n",
       "\n",
       "    .dataframe tbody tr th {\n",
       "        vertical-align: top;\n",
       "    }\n",
       "\n",
       "    .dataframe thead th {\n",
       "        text-align: right;\n",
       "    }\n",
       "</style>\n",
       "<table border=\"1\" class=\"dataframe\">\n",
       "  <thead>\n",
       "    <tr style=\"text-align: right;\">\n",
       "      <th></th>\n",
       "      <th>type</th>\n",
       "      <th>fixed acidity</th>\n",
       "      <th>volatile acidity</th>\n",
       "      <th>citric acid</th>\n",
       "      <th>residual sugar</th>\n",
       "      <th>chlorides</th>\n",
       "      <th>free sulfur dioxide</th>\n",
       "      <th>total sulfur dioxide</th>\n",
       "      <th>density</th>\n",
       "      <th>pH</th>\n",
       "      <th>sulphates</th>\n",
       "      <th>alcohol</th>\n",
       "      <th>quality</th>\n",
       "    </tr>\n",
       "  </thead>\n",
       "  <tbody>\n",
       "    <tr>\n",
       "      <th>207</th>\n",
       "      <td>Riesling</td>\n",
       "      <td>10.2</td>\n",
       "      <td>0.440</td>\n",
       "      <td>0.88</td>\n",
       "      <td>6.2</td>\n",
       "      <td>0.049</td>\n",
       "      <td>20.0</td>\n",
       "      <td>124.0</td>\n",
       "      <td>0.99680</td>\n",
       "      <td>2.99</td>\n",
       "      <td>0.51</td>\n",
       "      <td>9.9</td>\n",
       "      <td>4</td>\n",
       "    </tr>\n",
       "    <tr>\n",
       "      <th>745</th>\n",
       "      <td>Riesling</td>\n",
       "      <td>7.4</td>\n",
       "      <td>0.200</td>\n",
       "      <td>1.66</td>\n",
       "      <td>2.1</td>\n",
       "      <td>0.022</td>\n",
       "      <td>34.0</td>\n",
       "      <td>113.0</td>\n",
       "      <td>0.99165</td>\n",
       "      <td>3.26</td>\n",
       "      <td>0.55</td>\n",
       "      <td>12.2</td>\n",
       "      <td>6</td>\n",
       "    </tr>\n",
       "    <tr>\n",
       "      <th>946</th>\n",
       "      <td>Riesling</td>\n",
       "      <td>8.2</td>\n",
       "      <td>0.345</td>\n",
       "      <td>1.00</td>\n",
       "      <td>18.2</td>\n",
       "      <td>0.047</td>\n",
       "      <td>55.0</td>\n",
       "      <td>205.0</td>\n",
       "      <td>0.99965</td>\n",
       "      <td>2.96</td>\n",
       "      <td>0.43</td>\n",
       "      <td>9.6</td>\n",
       "      <td>5</td>\n",
       "    </tr>\n",
       "    <tr>\n",
       "      <th>1051</th>\n",
       "      <td>Riesling</td>\n",
       "      <td>6.9</td>\n",
       "      <td>0.210</td>\n",
       "      <td>0.81</td>\n",
       "      <td>1.1</td>\n",
       "      <td>0.137</td>\n",
       "      <td>52.0</td>\n",
       "      <td>123.0</td>\n",
       "      <td>0.99320</td>\n",
       "      <td>3.03</td>\n",
       "      <td>0.39</td>\n",
       "      <td>9.2</td>\n",
       "      <td>6</td>\n",
       "    </tr>\n",
       "    <tr>\n",
       "      <th>1551</th>\n",
       "      <td>Riesling</td>\n",
       "      <td>6.6</td>\n",
       "      <td>0.190</td>\n",
       "      <td>0.99</td>\n",
       "      <td>1.2</td>\n",
       "      <td>0.122</td>\n",
       "      <td>45.0</td>\n",
       "      <td>129.0</td>\n",
       "      <td>0.99360</td>\n",
       "      <td>3.09</td>\n",
       "      <td>0.31</td>\n",
       "      <td>8.7</td>\n",
       "      <td>6</td>\n",
       "    </tr>\n",
       "    <tr>\n",
       "      <th>1784</th>\n",
       "      <td>Garnacha</td>\n",
       "      <td>9.2</td>\n",
       "      <td>0.520</td>\n",
       "      <td>1.00</td>\n",
       "      <td>3.4</td>\n",
       "      <td>0.610</td>\n",
       "      <td>32.0</td>\n",
       "      <td>69.0</td>\n",
       "      <td>0.99960</td>\n",
       "      <td>2.74</td>\n",
       "      <td>2.00</td>\n",
       "      <td>9.4</td>\n",
       "      <td>4</td>\n",
       "    </tr>\n",
       "  </tbody>\n",
       "</table>\n",
       "</div>"
      ],
      "text/plain": [
       "          type  fixed acidity  volatile acidity  citric acid  residual sugar  \\\n",
       "207   Riesling           10.2             0.440         0.88             6.2   \n",
       "745   Riesling            7.4             0.200         1.66             2.1   \n",
       "946   Riesling            8.2             0.345         1.00            18.2   \n",
       "1051  Riesling            6.9             0.210         0.81             1.1   \n",
       "1551  Riesling            6.6             0.190         0.99             1.2   \n",
       "1784  Garnacha            9.2             0.520         1.00             3.4   \n",
       "\n",
       "      chlorides  free sulfur dioxide  total sulfur dioxide  density    pH  \\\n",
       "207       0.049                 20.0                 124.0  0.99680  2.99   \n",
       "745       0.022                 34.0                 113.0  0.99165  3.26   \n",
       "946       0.047                 55.0                 205.0  0.99965  2.96   \n",
       "1051      0.137                 52.0                 123.0  0.99320  3.03   \n",
       "1551      0.122                 45.0                 129.0  0.99360  3.09   \n",
       "1784      0.610                 32.0                  69.0  0.99960  2.74   \n",
       "\n",
       "      sulphates  alcohol  quality  \n",
       "207        0.51      9.9        4  \n",
       "745        0.55     12.2        6  \n",
       "946        0.43      9.6        5  \n",
       "1051       0.39      9.2        6  \n",
       "1551       0.31      8.7        6  \n",
       "1784       2.00      9.4        4  "
      ]
     },
     "execution_count": 20,
     "metadata": {},
     "output_type": "execute_result"
    }
   ],
   "source": [
    "preprocessed_ds[preprocessed_ds[\"citric acid\"] > 0.8]"
   ]
  },
  {
   "cell_type": "markdown",
   "metadata": {},
   "source": [
    "Dado que es un valor posible (no sabemos el ni el año ni el lugar de la muestra) y no podemos ver nada raro o que acompañe la teoría de que fue un error, no podemos hacer nada. Continuamos con el resto de variables."
   ]
  },
  {
   "cell_type": "code",
   "execution_count": 21,
   "metadata": {},
   "outputs": [
    {
     "data": {
      "text/plain": [
       "223      0.8\n",
       "1465     0.8\n",
       "1166     0.8\n",
       "1541     0.8\n",
       "372      0.8\n",
       "        ... \n",
       "7       20.7\n",
       "444     20.8\n",
       "191     22.0\n",
       "182     22.0\n",
       "1608    23.5\n",
       "Name: residual sugar, Length: 3232, dtype: float64"
      ]
     },
     "execution_count": 21,
     "metadata": {},
     "output_type": "execute_result"
    }
   ],
   "source": [
    "preprocessed_ds[\"residual sugar\"].sort_values(ascending=True)"
   ]
  },
  {
   "cell_type": "markdown",
   "metadata": {},
   "source": [
    "<font size=\"3\"> - _No parece haber nada raro en esta feature ya que no hay valores que no puedan verse en el mundo real._"
   ]
  },
  {
   "cell_type": "code",
   "execution_count": 22,
   "metadata": {},
   "outputs": [
    {
     "data": {
      "text/plain": [
       "2470    0.012\n",
       "2469    0.012\n",
       "930     0.017\n",
       "970     0.017\n",
       "876     0.018\n",
       "        ...  \n",
       "2325    0.422\n",
       "1714    0.464\n",
       "1739    0.467\n",
       "1784    0.610\n",
       "1891    0.611\n",
       "Name: chlorides, Length: 3232, dtype: float64"
      ]
     },
     "execution_count": 22,
     "metadata": {},
     "output_type": "execute_result"
    }
   ],
   "source": [
    "preprocessed_ds[\"chlorides\"].sort_values(ascending=True)"
   ]
  },
  {
   "cell_type": "markdown",
   "metadata": {},
   "source": [
    "<font size=\"3\"> - _No parece haber nada raro en esta feature ya que no hay valores que no puedan verse en el mundo real._"
   ]
  },
  {
   "cell_type": "code",
   "execution_count": 23,
   "metadata": {},
   "outputs": [
    {
     "data": {
      "text/plain": [
       "2406      1.0\n",
       "2163      1.0\n",
       "2168      1.0\n",
       "2407      2.0\n",
       "259       3.0\n",
       "        ...  \n",
       "405      87.0\n",
       "395      87.0\n",
       "1257     88.0\n",
       "659     122.5\n",
       "325     131.0\n",
       "Name: free sulfur dioxide, Length: 3232, dtype: float64"
      ]
     },
     "execution_count": 23,
     "metadata": {},
     "output_type": "execute_result"
    }
   ],
   "source": [
    "preprocessed_ds[\"free sulfur dioxide\"].sort_values(ascending=True)"
   ]
  },
  {
   "cell_type": "markdown",
   "metadata": {},
   "source": [
    "<font size=\"3\"> - _No parece haber nada raro en esta feature ya que no hay valores que no puedan verse en el mundo real._"
   ]
  },
  {
   "cell_type": "code",
   "execution_count": 24,
   "metadata": {},
   "outputs": [
    {
     "data": {
      "text/plain": [
       "2548      6.0\n",
       "2617      6.0\n",
       "2612      6.0\n",
       "2446      7.0\n",
       "2920      7.0\n",
       "        ...  \n",
       "227     272.0\n",
       "2712    278.0\n",
       "2714    289.0\n",
       "325     313.0\n",
       "1417    366.5\n",
       "Name: total sulfur dioxide, Length: 3232, dtype: float64"
      ]
     },
     "execution_count": 24,
     "metadata": {},
     "output_type": "execute_result"
    }
   ],
   "source": [
    "preprocessed_ds[\"total sulfur dioxide\"].sort_values(ascending=True)"
   ]
  },
  {
   "cell_type": "markdown",
   "metadata": {},
   "source": [
    "<font size=\"3\"> - _No parece haber nada raro en esta feature ya que no hay valores que no puedan verse en el mundo real._"
   ]
  },
  {
   "cell_type": "code",
   "execution_count": 25,
   "metadata": {},
   "outputs": [
    {
     "data": {
      "text/plain": [
       "1603      0.98815\n",
       "865       0.98860\n",
       "1126      0.98900\n",
       "456       0.98920\n",
       "20        0.98920\n",
       "          ...    \n",
       "2190    100.31500\n",
       "2187    100.31500\n",
       "2188    100.31500\n",
       "3068    100.36900\n",
       "3067    100.36900\n",
       "Name: density, Length: 3232, dtype: float64"
      ]
     },
     "execution_count": 25,
     "metadata": {},
     "output_type": "execute_result"
    }
   ],
   "source": [
    "preprocessed_ds[\"density\"].sort_values(ascending=True)"
   ]
  },
  {
   "cell_type": "markdown",
   "metadata": {},
   "source": [
    "En esta feature vemos algo raro, ya que densidades mayores a 2 en el vino son imposibles. La densidad del vino ronda entre 0.99 y 1.015 y estamos viendo _observaciones_ con una densidad de 100 o 10 lo que es no posible físicamente. Al igual que con el alcohol, es sospechoso que los _outliers_ sean 10 y 100, ya que podría haber ocurrido un error al cargar los datos."
   ]
  },
  {
   "cell_type": "code",
   "execution_count": 26,
   "metadata": {},
   "outputs": [
    {
     "data": {
      "text/plain": [
       "density\n",
       "10.002     14\n",
       "10.004     13\n",
       "10.006      9\n",
       "10.014      6\n",
       "10.003      5\n",
       "10.001      5\n",
       "100.315     3\n",
       "10.008      3\n",
       "100.369     2\n",
       "10.021      2\n",
       "10.026      2\n",
       "10.022      2\n",
       "10.015      2\n",
       "100.015     2\n",
       "100.005     2\n",
       "100.242     2\n",
       "100.055     1\n",
       "10.018      1\n",
       "100.025     1\n",
       "10.032      1\n",
       "10.024      1\n",
       "10.012      1\n",
       "100.024     1\n",
       "100.012     1\n",
       "100.289     1\n",
       "10.005      1\n",
       "Name: count, dtype: int64"
      ]
     },
     "execution_count": 26,
     "metadata": {},
     "output_type": "execute_result"
    }
   ],
   "source": [
    "# vemos justamente lo dicho, solo hay outliers del tipo 10 y 100\n",
    "ds_con_outliers = preprocessed_ds[preprocessed_ds[\"density\"] > 1.015]\n",
    "ds_con_outliers[\"density\"].value_counts()"
   ]
  },
  {
   "cell_type": "markdown",
   "metadata": {},
   "source": [
    "No es rebuscado pensar que los valores deberían tener el \"punto flotante\" después del uno. Por lo que reemplazamos:"
   ]
  },
  {
   "cell_type": "code",
   "execution_count": 27,
   "metadata": {},
   "outputs": [],
   "source": [
    "preprocessed_ds[\"density\"] = preprocessed_ds[\"density\"].apply(lambda x : x/100 if x > 100 else (x/10 if x > 10 else x))"
   ]
  },
  {
   "cell_type": "markdown",
   "metadata": {},
   "source": [
    "Continuamos..."
   ]
  },
  {
   "cell_type": "code",
   "execution_count": 28,
   "metadata": {},
   "outputs": [
    {
     "data": {
      "text/plain": [
       "1784    2.74\n",
       "1214    2.74\n",
       "621     2.85\n",
       "1330    2.85\n",
       "1329    2.85\n",
       "        ... \n",
       "1728    3.85\n",
       "2328    3.90\n",
       "1678    3.90\n",
       "2949    4.01\n",
       "2954    4.01\n",
       "Name: pH, Length: 3232, dtype: float64"
      ]
     },
     "execution_count": 28,
     "metadata": {},
     "output_type": "execute_result"
    }
   ],
   "source": [
    "preprocessed_ds[\"pH\"].sort_values(ascending=True)"
   ]
  },
  {
   "cell_type": "markdown",
   "metadata": {},
   "source": [
    "<font size=\"3\"> - _No parece haber nada raro en esta feature._"
   ]
  },
  {
   "cell_type": "code",
   "execution_count": 29,
   "metadata": {},
   "outputs": [
    {
     "data": {
      "text/plain": [
       "1126    0.25\n",
       "1210    0.25\n",
       "1283    0.25\n",
       "175     0.27\n",
       "1301    0.27\n",
       "        ... \n",
       "2356    1.62\n",
       "1724    1.95\n",
       "1719    1.95\n",
       "1725    1.98\n",
       "1784    2.00\n",
       "Name: sulphates, Length: 3232, dtype: float64"
      ]
     },
     "execution_count": 29,
     "metadata": {},
     "output_type": "execute_result"
    }
   ],
   "source": [
    "preprocessed_ds[\"sulphates\"].sort_values(ascending=True)"
   ]
  },
  {
   "cell_type": "markdown",
   "metadata": {},
   "source": [
    "<font size=\"3\"> - _No parece haber nada raro en esta feature ya que no hay valores que no puedan verse en el mundo real._"
   ]
  },
  {
   "cell_type": "code",
   "execution_count": 30,
   "metadata": {},
   "outputs": [
    {
     "data": {
      "text/plain": [
       "quality\n",
       "6    1335\n",
       "5    1167\n",
       "7     501\n",
       "4     118\n",
       "8      86\n",
       "3      20\n",
       "9       5\n",
       "Name: count, dtype: int64"
      ]
     },
     "execution_count": 30,
     "metadata": {},
     "output_type": "execute_result"
    }
   ],
   "source": [
    "preprocessed_ds[\"quality\"].value_counts()"
   ]
  },
  {
   "cell_type": "markdown",
   "metadata": {},
   "source": [
    "<font size=\"3\"> - _No parece haber nada raro en esta feature._"
   ]
  },
  {
   "cell_type": "markdown",
   "metadata": {},
   "source": [
    "## Transformación del dataset \n",
    "\n",
    "- duplicados\n",
    "- estandarizacion (u otro método similar).\n",
    "- entropia (es posible?)"
   ]
  },
  {
   "cell_type": "markdown",
   "metadata": {},
   "source": [
    "Como vimos en el reporte, en este dataset hay una alerta de duplicados, y deberíamos analizar esto porque afecta directamente a la calidad del dataset. En primera instancia, dado que son casi todas las variables continuas (11 en total) y que no existen 2 vinos iguales, uno tendería a pensar que no pueden haber repetidos. Sin embargo, esto depende, en parte, de la precisión de los instrumentos de medición.   \n",
    "Analizando en el reporte, vemos que la densidad tiene una precisión de varios decimales, por ejemplo, pero el 90% de las observaciones (del percentil 5 al 95) todas son del estilo \"0.99\", por lo que, no es tan raro que haya repetidos si tenemos en cuenta hay muchas muestras con una precisión de hasta 4 decimales..."
   ]
  },
  {
   "cell_type": "code",
   "execution_count": 31,
   "metadata": {},
   "outputs": [
    {
     "name": "stdout",
     "output_type": "stream",
     "text": [
      "De las densidades que comienzan con 0.99, el 73.43 porciento tienen una prof. de menos de 5 decimales\n"
     ]
    }
   ],
   "source": [
    "# dejamos muestras con 0.99\n",
    "ds_densidades = preprocessed_ds[preprocessed_ds[\"density\"].apply(lambda x : x >= 0.99 and x < 1)][\"density\"]\n",
    "total_muestras = ds_densidades.shape[0]\n",
    "\n",
    "profundidad_cuatro = ds_densidades[ds_densidades.apply(lambda x : x == round(x, 4))].shape[0]\n",
    "porc = round(profundidad_cuatro * 100 / total_muestras, 2)\n",
    "print(f\"De las densidades que comienzan con 0.99, el {porc} porciento tienen una prof. de menos de 5 decimales\")"
   ]
  },
  {
   "cell_type": "markdown",
   "metadata": {},
   "source": [
    "Si miramos el resto de variables vemos que la precisión es muy baja, por ejemplo en el caso de _fixed acidity_, _free sulfur dioxide_ y _total sulfur dioxide_. Además, _chlorides_ parece tener el mismo problema que _density_."
   ]
  },
  {
   "cell_type": "code",
   "execution_count": 32,
   "metadata": {},
   "outputs": [
    {
     "data": {
      "text/html": [
       "<div>\n",
       "<style scoped>\n",
       "    .dataframe tbody tr th:only-of-type {\n",
       "        vertical-align: middle;\n",
       "    }\n",
       "\n",
       "    .dataframe tbody tr th {\n",
       "        vertical-align: top;\n",
       "    }\n",
       "\n",
       "    .dataframe thead th {\n",
       "        text-align: right;\n",
       "    }\n",
       "</style>\n",
       "<table border=\"1\" class=\"dataframe\">\n",
       "  <thead>\n",
       "    <tr style=\"text-align: right;\">\n",
       "      <th></th>\n",
       "      <th>type</th>\n",
       "      <th>fixed acidity</th>\n",
       "      <th>volatile acidity</th>\n",
       "      <th>citric acid</th>\n",
       "      <th>residual sugar</th>\n",
       "      <th>chlorides</th>\n",
       "      <th>free sulfur dioxide</th>\n",
       "      <th>total sulfur dioxide</th>\n",
       "      <th>density</th>\n",
       "      <th>pH</th>\n",
       "      <th>sulphates</th>\n",
       "      <th>alcohol</th>\n",
       "      <th>quality</th>\n",
       "    </tr>\n",
       "  </thead>\n",
       "  <tbody>\n",
       "    <tr>\n",
       "      <th>0</th>\n",
       "      <td>Riesling</td>\n",
       "      <td>7.0</td>\n",
       "      <td>0.27</td>\n",
       "      <td>0.36</td>\n",
       "      <td>20.7</td>\n",
       "      <td>0.045</td>\n",
       "      <td>45.0</td>\n",
       "      <td>170.0</td>\n",
       "      <td>1.0010</td>\n",
       "      <td>3.00</td>\n",
       "      <td>0.45</td>\n",
       "      <td>8.8</td>\n",
       "      <td>6</td>\n",
       "    </tr>\n",
       "    <tr>\n",
       "      <th>1</th>\n",
       "      <td>Riesling</td>\n",
       "      <td>6.3</td>\n",
       "      <td>0.30</td>\n",
       "      <td>0.34</td>\n",
       "      <td>1.6</td>\n",
       "      <td>0.049</td>\n",
       "      <td>14.0</td>\n",
       "      <td>132.0</td>\n",
       "      <td>0.9940</td>\n",
       "      <td>3.30</td>\n",
       "      <td>0.49</td>\n",
       "      <td>9.5</td>\n",
       "      <td>6</td>\n",
       "    </tr>\n",
       "    <tr>\n",
       "      <th>2</th>\n",
       "      <td>Riesling</td>\n",
       "      <td>8.1</td>\n",
       "      <td>0.28</td>\n",
       "      <td>0.40</td>\n",
       "      <td>6.9</td>\n",
       "      <td>0.050</td>\n",
       "      <td>30.0</td>\n",
       "      <td>97.0</td>\n",
       "      <td>0.9951</td>\n",
       "      <td>3.26</td>\n",
       "      <td>0.44</td>\n",
       "      <td>10.1</td>\n",
       "      <td>6</td>\n",
       "    </tr>\n",
       "    <tr>\n",
       "      <th>3</th>\n",
       "      <td>Riesling</td>\n",
       "      <td>7.2</td>\n",
       "      <td>0.23</td>\n",
       "      <td>0.32</td>\n",
       "      <td>8.5</td>\n",
       "      <td>0.058</td>\n",
       "      <td>47.0</td>\n",
       "      <td>186.0</td>\n",
       "      <td>0.9956</td>\n",
       "      <td>3.19</td>\n",
       "      <td>0.40</td>\n",
       "      <td>9.9</td>\n",
       "      <td>6</td>\n",
       "    </tr>\n",
       "    <tr>\n",
       "      <th>4</th>\n",
       "      <td>Riesling</td>\n",
       "      <td>7.2</td>\n",
       "      <td>0.23</td>\n",
       "      <td>0.32</td>\n",
       "      <td>8.5</td>\n",
       "      <td>0.058</td>\n",
       "      <td>47.0</td>\n",
       "      <td>186.0</td>\n",
       "      <td>0.9956</td>\n",
       "      <td>3.19</td>\n",
       "      <td>0.40</td>\n",
       "      <td>9.9</td>\n",
       "      <td>6</td>\n",
       "    </tr>\n",
       "  </tbody>\n",
       "</table>\n",
       "</div>"
      ],
      "text/plain": [
       "       type  fixed acidity  volatile acidity  citric acid  residual sugar  \\\n",
       "0  Riesling            7.0              0.27         0.36            20.7   \n",
       "1  Riesling            6.3              0.30         0.34             1.6   \n",
       "2  Riesling            8.1              0.28         0.40             6.9   \n",
       "3  Riesling            7.2              0.23         0.32             8.5   \n",
       "4  Riesling            7.2              0.23         0.32             8.5   \n",
       "\n",
       "   chlorides  free sulfur dioxide  total sulfur dioxide  density    pH  \\\n",
       "0      0.045                 45.0                 170.0   1.0010  3.00   \n",
       "1      0.049                 14.0                 132.0   0.9940  3.30   \n",
       "2      0.050                 30.0                  97.0   0.9951  3.26   \n",
       "3      0.058                 47.0                 186.0   0.9956  3.19   \n",
       "4      0.058                 47.0                 186.0   0.9956  3.19   \n",
       "\n",
       "   sulphates  alcohol  quality  \n",
       "0       0.45      8.8        6  \n",
       "1       0.49      9.5        6  \n",
       "2       0.44     10.1        6  \n",
       "3       0.40      9.9        6  \n",
       "4       0.40      9.9        6  "
      ]
     },
     "execution_count": 32,
     "metadata": {},
     "output_type": "execute_result"
    }
   ],
   "source": [
    "preprocessed_ds.head()"
   ]
  },
  {
   "cell_type": "markdown",
   "metadata": {},
   "source": [
    "Más en detalle, _free sulfur dioxide_ y _total sulfur dioxide_ tienen una muy baja cantidad de números no enteros"
   ]
  },
  {
   "cell_type": "code",
   "execution_count": 33,
   "metadata": {},
   "outputs": [
    {
     "data": {
      "text/plain": [
       "free sulfur dioxide\n",
       "73.5     4\n",
       "44.5     4\n",
       "35.5     2\n",
       "37.5     2\n",
       "50.5     1\n",
       "64.5     1\n",
       "38.5     1\n",
       "82.5     1\n",
       "122.5    1\n",
       "11.5     1\n",
       "15.5     1\n",
       "77.5     1\n",
       "40.5     1\n",
       "5.5      1\n",
       "Name: count, dtype: int64"
      ]
     },
     "execution_count": 33,
     "metadata": {},
     "output_type": "execute_result"
    }
   ],
   "source": [
    "ds_longitudes = preprocessed_ds[\"free sulfur dioxide\"].apply(lambda x : pd.NA if (x - int(x) == 0) else x)\n",
    "ds_longitudes.value_counts()"
   ]
  },
  {
   "cell_type": "code",
   "execution_count": 34,
   "metadata": {},
   "outputs": [
    {
     "data": {
      "text/plain": [
       "total sulfur dioxide\n",
       "218.5    3\n",
       "189.5    3\n",
       "129.5    2\n",
       "77.5     2\n",
       "238.5    1\n",
       "249.5    1\n",
       "234.5    1\n",
       "217.5    1\n",
       "366.5    1\n",
       "Name: count, dtype: int64"
      ]
     },
     "execution_count": 34,
     "metadata": {},
     "output_type": "execute_result"
    }
   ],
   "source": [
    "ds_longitudes = preprocessed_ds[\"total sulfur dioxide\"].apply(lambda x : pd.NA if (x - int(x) == 0) else x)\n",
    "ds_longitudes.value_counts()"
   ]
  },
  {
   "cell_type": "markdown",
   "metadata": {},
   "source": [
    "Creamos un dataset que contenga todas las filas duplicadas para analizarlas de forma aislada (una de cada) y generamos dos reportes para comparar las distribuciones de los duplicados."
   ]
  },
  {
   "cell_type": "code",
   "execution_count": 35,
   "metadata": {},
   "outputs": [],
   "source": [
    "# genera un dataset con los repetidos\n",
    "ds_duplicados = preprocessed_ds[preprocessed_ds.duplicated(keep='first')]\n",
    "\n",
    "# genera reporte con duplicados\n",
    "# reporte = ProfileReport(ds_duplicados)\n",
    "# reporte.to_notebook_iframe()\n",
    "\n",
    "# genera reporte sin duplicados\n",
    "# reporte = ProfileReport(preprocessed_ds.drop_duplicates())\n",
    "# reporte.to_notebook_iframe()\n"
   ]
  },
  {
   "cell_type": "markdown",
   "metadata": {},
   "source": [
    "Si miramos el reporte vemos que las distribuciones de las variables son muy parecidas a las del dataset sin duplicados, y esto quiero decir que los mismos no están cambiando las distribuciones sino intensificando las existentes. Teniendo en cuenta la baja precisión de las _features_ ahora no parece tan raro que aunque no hayan dos vinos iguales, haya repetidos. Podríamos marcar como observación la cantidad de repetidos."
   ]
  },
  {
   "cell_type": "markdown",
   "metadata": {},
   "source": [
    "Continuando con las mejoras sobre el estado del dataset aplicamos el _dummy encoding_ para mapear la columna _type_ con los valores 1 y 0 (True y False), y de esta manera trabajar solo con números"
   ]
  },
  {
   "cell_type": "code",
   "execution_count": 36,
   "metadata": {},
   "outputs": [
    {
     "data": {
      "text/html": [
       "<div>\n",
       "<style scoped>\n",
       "    .dataframe tbody tr th:only-of-type {\n",
       "        vertical-align: middle;\n",
       "    }\n",
       "\n",
       "    .dataframe tbody tr th {\n",
       "        vertical-align: top;\n",
       "    }\n",
       "\n",
       "    .dataframe thead th {\n",
       "        text-align: right;\n",
       "    }\n",
       "</style>\n",
       "<table border=\"1\" class=\"dataframe\">\n",
       "  <thead>\n",
       "    <tr style=\"text-align: right;\">\n",
       "      <th></th>\n",
       "      <th>fixed acidity</th>\n",
       "      <th>volatile acidity</th>\n",
       "      <th>citric acid</th>\n",
       "      <th>residual sugar</th>\n",
       "      <th>chlorides</th>\n",
       "      <th>free sulfur dioxide</th>\n",
       "      <th>total sulfur dioxide</th>\n",
       "      <th>density</th>\n",
       "      <th>pH</th>\n",
       "      <th>sulphates</th>\n",
       "      <th>alcohol</th>\n",
       "      <th>quality</th>\n",
       "      <th>type_Riesling</th>\n",
       "    </tr>\n",
       "  </thead>\n",
       "  <tbody>\n",
       "    <tr>\n",
       "      <th>0</th>\n",
       "      <td>7.0</td>\n",
       "      <td>0.270</td>\n",
       "      <td>0.36</td>\n",
       "      <td>20.7</td>\n",
       "      <td>0.045</td>\n",
       "      <td>45.0</td>\n",
       "      <td>170.0</td>\n",
       "      <td>1.00100</td>\n",
       "      <td>3.00</td>\n",
       "      <td>0.45</td>\n",
       "      <td>8.8</td>\n",
       "      <td>6</td>\n",
       "      <td>True</td>\n",
       "    </tr>\n",
       "    <tr>\n",
       "      <th>1</th>\n",
       "      <td>6.3</td>\n",
       "      <td>0.300</td>\n",
       "      <td>0.34</td>\n",
       "      <td>1.6</td>\n",
       "      <td>0.049</td>\n",
       "      <td>14.0</td>\n",
       "      <td>132.0</td>\n",
       "      <td>0.99400</td>\n",
       "      <td>3.30</td>\n",
       "      <td>0.49</td>\n",
       "      <td>9.5</td>\n",
       "      <td>6</td>\n",
       "      <td>True</td>\n",
       "    </tr>\n",
       "    <tr>\n",
       "      <th>2</th>\n",
       "      <td>8.1</td>\n",
       "      <td>0.280</td>\n",
       "      <td>0.40</td>\n",
       "      <td>6.9</td>\n",
       "      <td>0.050</td>\n",
       "      <td>30.0</td>\n",
       "      <td>97.0</td>\n",
       "      <td>0.99510</td>\n",
       "      <td>3.26</td>\n",
       "      <td>0.44</td>\n",
       "      <td>10.1</td>\n",
       "      <td>6</td>\n",
       "      <td>True</td>\n",
       "    </tr>\n",
       "    <tr>\n",
       "      <th>3</th>\n",
       "      <td>7.2</td>\n",
       "      <td>0.230</td>\n",
       "      <td>0.32</td>\n",
       "      <td>8.5</td>\n",
       "      <td>0.058</td>\n",
       "      <td>47.0</td>\n",
       "      <td>186.0</td>\n",
       "      <td>0.99560</td>\n",
       "      <td>3.19</td>\n",
       "      <td>0.40</td>\n",
       "      <td>9.9</td>\n",
       "      <td>6</td>\n",
       "      <td>True</td>\n",
       "    </tr>\n",
       "    <tr>\n",
       "      <th>4</th>\n",
       "      <td>7.2</td>\n",
       "      <td>0.230</td>\n",
       "      <td>0.32</td>\n",
       "      <td>8.5</td>\n",
       "      <td>0.058</td>\n",
       "      <td>47.0</td>\n",
       "      <td>186.0</td>\n",
       "      <td>0.99560</td>\n",
       "      <td>3.19</td>\n",
       "      <td>0.40</td>\n",
       "      <td>9.9</td>\n",
       "      <td>6</td>\n",
       "      <td>True</td>\n",
       "    </tr>\n",
       "    <tr>\n",
       "      <th>...</th>\n",
       "      <td>...</td>\n",
       "      <td>...</td>\n",
       "      <td>...</td>\n",
       "      <td>...</td>\n",
       "      <td>...</td>\n",
       "      <td>...</td>\n",
       "      <td>...</td>\n",
       "      <td>...</td>\n",
       "      <td>...</td>\n",
       "      <td>...</td>\n",
       "      <td>...</td>\n",
       "      <td>...</td>\n",
       "      <td>...</td>\n",
       "    </tr>\n",
       "    <tr>\n",
       "      <th>3227</th>\n",
       "      <td>6.2</td>\n",
       "      <td>0.600</td>\n",
       "      <td>0.08</td>\n",
       "      <td>2.0</td>\n",
       "      <td>0.090</td>\n",
       "      <td>32.0</td>\n",
       "      <td>44.0</td>\n",
       "      <td>0.99490</td>\n",
       "      <td>3.45</td>\n",
       "      <td>0.58</td>\n",
       "      <td>10.5</td>\n",
       "      <td>5</td>\n",
       "      <td>False</td>\n",
       "    </tr>\n",
       "    <tr>\n",
       "      <th>3228</th>\n",
       "      <td>5.9</td>\n",
       "      <td>0.550</td>\n",
       "      <td>0.10</td>\n",
       "      <td>2.2</td>\n",
       "      <td>0.062</td>\n",
       "      <td>39.0</td>\n",
       "      <td>51.0</td>\n",
       "      <td>0.99512</td>\n",
       "      <td>3.52</td>\n",
       "      <td>0.76</td>\n",
       "      <td>11.2</td>\n",
       "      <td>6</td>\n",
       "      <td>False</td>\n",
       "    </tr>\n",
       "    <tr>\n",
       "      <th>3229</th>\n",
       "      <td>6.3</td>\n",
       "      <td>0.510</td>\n",
       "      <td>0.13</td>\n",
       "      <td>2.3</td>\n",
       "      <td>0.076</td>\n",
       "      <td>29.0</td>\n",
       "      <td>40.0</td>\n",
       "      <td>0.99574</td>\n",
       "      <td>3.42</td>\n",
       "      <td>0.75</td>\n",
       "      <td>11.0</td>\n",
       "      <td>6</td>\n",
       "      <td>False</td>\n",
       "    </tr>\n",
       "    <tr>\n",
       "      <th>3230</th>\n",
       "      <td>5.9</td>\n",
       "      <td>0.645</td>\n",
       "      <td>0.12</td>\n",
       "      <td>2.0</td>\n",
       "      <td>0.075</td>\n",
       "      <td>32.0</td>\n",
       "      <td>44.0</td>\n",
       "      <td>0.99547</td>\n",
       "      <td>3.57</td>\n",
       "      <td>0.71</td>\n",
       "      <td>10.2</td>\n",
       "      <td>5</td>\n",
       "      <td>False</td>\n",
       "    </tr>\n",
       "    <tr>\n",
       "      <th>3231</th>\n",
       "      <td>6.0</td>\n",
       "      <td>0.310</td>\n",
       "      <td>0.47</td>\n",
       "      <td>3.6</td>\n",
       "      <td>0.067</td>\n",
       "      <td>18.0</td>\n",
       "      <td>42.0</td>\n",
       "      <td>0.99549</td>\n",
       "      <td>3.39</td>\n",
       "      <td>0.66</td>\n",
       "      <td>11.0</td>\n",
       "      <td>6</td>\n",
       "      <td>False</td>\n",
       "    </tr>\n",
       "  </tbody>\n",
       "</table>\n",
       "<p>3232 rows × 13 columns</p>\n",
       "</div>"
      ],
      "text/plain": [
       "      fixed acidity  volatile acidity  citric acid  residual sugar  chlorides  \\\n",
       "0               7.0             0.270         0.36            20.7      0.045   \n",
       "1               6.3             0.300         0.34             1.6      0.049   \n",
       "2               8.1             0.280         0.40             6.9      0.050   \n",
       "3               7.2             0.230         0.32             8.5      0.058   \n",
       "4               7.2             0.230         0.32             8.5      0.058   \n",
       "...             ...               ...          ...             ...        ...   \n",
       "3227            6.2             0.600         0.08             2.0      0.090   \n",
       "3228            5.9             0.550         0.10             2.2      0.062   \n",
       "3229            6.3             0.510         0.13             2.3      0.076   \n",
       "3230            5.9             0.645         0.12             2.0      0.075   \n",
       "3231            6.0             0.310         0.47             3.6      0.067   \n",
       "\n",
       "      free sulfur dioxide  total sulfur dioxide  density    pH  sulphates  \\\n",
       "0                    45.0                 170.0  1.00100  3.00       0.45   \n",
       "1                    14.0                 132.0  0.99400  3.30       0.49   \n",
       "2                    30.0                  97.0  0.99510  3.26       0.44   \n",
       "3                    47.0                 186.0  0.99560  3.19       0.40   \n",
       "4                    47.0                 186.0  0.99560  3.19       0.40   \n",
       "...                   ...                   ...      ...   ...        ...   \n",
       "3227                 32.0                  44.0  0.99490  3.45       0.58   \n",
       "3228                 39.0                  51.0  0.99512  3.52       0.76   \n",
       "3229                 29.0                  40.0  0.99574  3.42       0.75   \n",
       "3230                 32.0                  44.0  0.99547  3.57       0.71   \n",
       "3231                 18.0                  42.0  0.99549  3.39       0.66   \n",
       "\n",
       "      alcohol  quality  type_Riesling  \n",
       "0         8.8        6           True  \n",
       "1         9.5        6           True  \n",
       "2        10.1        6           True  \n",
       "3         9.9        6           True  \n",
       "4         9.9        6           True  \n",
       "...       ...      ...            ...  \n",
       "3227     10.5        5          False  \n",
       "3228     11.2        6          False  \n",
       "3229     11.0        6          False  \n",
       "3230     10.2        5          False  \n",
       "3231     11.0        6          False  \n",
       "\n",
       "[3232 rows x 13 columns]"
      ]
     },
     "execution_count": 36,
     "metadata": {},
     "output_type": "execute_result"
    }
   ],
   "source": [
    "preprocessed_ds[\"type_Riesling\"] = preprocessed_ds[\"type\"] == \"Riesling\"\n",
    "preprocessed_ds = preprocessed_ds.drop(\"type\", axis=1)\n",
    "preprocessed_ds"
   ]
  },
  {
   "cell_type": "markdown",
   "metadata": {},
   "source": [
    "## Estudio univariado\n",
    "\n",
    "Dado que el análisis univariado estará presente en el informe, utilizamos este espacio para lo que respecta a la visualización de las distribuiciones."
   ]
  },
  {
   "cell_type": "markdown",
   "metadata": {},
   "source": [
    "##### FIXED ACIDITY"
   ]
  },
  {
   "cell_type": "code",
   "execution_count": 75,
   "metadata": {},
   "outputs": [
    {
     "data": {
      "image/png": "[encoded data removed]",
      "text/plain": [
       "<Figure size 800x600 with 1 Axes>"
      ]
     },
     "metadata": {},
     "output_type": "display_data"
    }
   ],
   "source": [
    "import matplotlib.pyplot as plt\n",
    "\n",
    "plt.figure(figsize=(8, 6))\n",
    "plt.boxplot(preprocessed_ds['fixed acidity'], notch=True)\n",
    "plt.title(f'Boxplot de Fixed Acidity')\n",
    "plt.xlabel('Fixed Acidity')\n",
    "plt.ylabel('Valores')\n",
    "plt.show()"
   ]
  },
  {
   "cell_type": "markdown",
   "metadata": {},
   "source": [
    "Mejoramos las escalas, para que se pueda ver la distribución..."
   ]
  },
  {
   "cell_type": "code",
   "execution_count": 74,
   "metadata": {},
   "outputs": [
    {
     "data": {
      "image/png": "[encoded data removed]",
      "text/plain": [
       "<Figure size 800x600 with 1 Axes>"
      ]
     },
     "metadata": {},
     "output_type": "display_data"
    }
   ],
   "source": [
    "plt.figure(figsize=(8, 6))\n",
    "plt.boxplot(preprocessed_ds['fixed acidity'], notch=True)\n",
    "plt.title(f'Boxplot de Fixed Acidity')\n",
    "plt.xlabel('Fixed Acidity')\n",
    "plt.ylabel('Valores')\n",
    "plt.ylim(4.3, 10.7)\n",
    "plt.show()"
   ]
  },
  {
   "cell_type": "markdown",
   "metadata": {},
   "source": [
    "##### VOLATILE ACIDITY"
   ]
  },
  {
   "cell_type": "code",
   "execution_count": 77,
   "metadata": {},
   "outputs": [
    {
     "data": {
      "image/png": "[encoded data removed]",
      "text/plain": [
       "<Figure size 800x600 with 1 Axes>"
      ]
     },
     "metadata": {},
     "output_type": "display_data"
    }
   ],
   "source": [
    "plt.figure(figsize=(8, 6))\n",
    "plt.boxplot(preprocessed_ds['volatile acidity'], notch=True)\n",
    "plt.title(f'Boxplot de volatile acidity')\n",
    "plt.xlabel('volatile acidity')\n",
    "plt.ylabel('Valores')\n",
    "plt.show()"
   ]
  },
  {
   "cell_type": "markdown",
   "metadata": {},
   "source": [
    "Mejoramos las escalas, para que se pueda ver la distribución..."
   ]
  },
  {
   "cell_type": "code",
   "execution_count": 40,
   "metadata": {},
   "outputs": [
    {
     "data": {
      "image/png": "[encoded data removed]",
      "text/plain": [
       "<Figure size 800x600 with 1 Axes>"
      ]
     },
     "metadata": {},
     "output_type": "display_data"
    }
   ],
   "source": [
    "plt.figure(figsize=(8, 6))\n",
    "plt.boxplot(preprocessed_ds['volatile acidity'], notch=True)\n",
    "plt.title(f'Boxplot de volatile acidity')\n",
    "plt.xlabel('volatile acidity')\n",
    "plt.ylabel('Valores')\n",
    "plt.ylim(0, 1.1)\n",
    "plt.show()"
   ]
  },
  {
   "cell_type": "markdown",
   "metadata": {},
   "source": [
    "##### CITRIC ACID"
   ]
  },
  {
   "cell_type": "code",
   "execution_count": 41,
   "metadata": {},
   "outputs": [
    {
     "data": {
      "image/png": "[encoded data removed]",
      "text/plain": [
       "<Figure size 800x600 with 1 Axes>"
      ]
     },
     "metadata": {},
     "output_type": "display_data"
    }
   ],
   "source": [
    "plt.figure(figsize=(8, 6))\n",
    "plt.boxplot(preprocessed_ds['citric acid'], notch=True)\n",
    "plt.title(f'Boxplot de citric acid')\n",
    "plt.xlabel('citric acid')\n",
    "plt.ylabel('Valores')\n",
    "plt.show()"
   ]
  },
  {
   "cell_type": "markdown",
   "metadata": {},
   "source": [
    "Mejoramos las escalas, para que se pueda ver la distribución..."
   ]
  },
  {
   "cell_type": "code",
   "execution_count": 42,
   "metadata": {},
   "outputs": [
    {
     "data": {
      "image/png": "[encoded data removed]",
      "text/plain": [
       "<Figure size 800x600 with 1 Axes>"
      ]
     },
     "metadata": {},
     "output_type": "display_data"
    }
   ],
   "source": [
    "plt.figure(figsize=(8, 6))\n",
    "plt.boxplot(preprocessed_ds['citric acid'], notch=True)\n",
    "plt.title(f'Boxplot de citric acid')\n",
    "plt.xlabel('citric acid')\n",
    "plt.ylabel('Valores')\n",
    "plt.ylim(-0.01, 0.8)\n",
    "plt.show()"
   ]
  },
  {
   "cell_type": "markdown",
   "metadata": {},
   "source": [
    "##### RESIDUAL SUGAR"
   ]
  },
  {
   "cell_type": "code",
   "execution_count": 43,
   "metadata": {},
   "outputs": [
    {
     "data": {
      "image/png": "[encoded data removed]",
      "text/plain": [
       "<Figure size 800x600 with 1 Axes>"
      ]
     },
     "metadata": {},
     "output_type": "display_data"
    }
   ],
   "source": [
    "plt.figure(figsize=(8, 6))\n",
    "plt.boxplot(preprocessed_ds['residual sugar'], notch=True)\n",
    "plt.title(f'Boxplot de residual sugar')\n",
    "plt.xlabel('residual sugar')\n",
    "plt.ylabel('Valores')\n",
    "plt.show()"
   ]
  },
  {
   "cell_type": "markdown",
   "metadata": {},
   "source": [
    "Mejoramos las escalas, para que se pueda ver la distribución..."
   ]
  },
  {
   "cell_type": "code",
   "execution_count": 44,
   "metadata": {},
   "outputs": [
    {
     "data": {
      "image/png": "[encoded data removed]",
      "text/plain": [
       "<Figure size 800x600 with 1 Axes>"
      ]
     },
     "metadata": {},
     "output_type": "display_data"
    }
   ],
   "source": [
    "plt.figure(figsize=(8, 6))\n",
    "plt.boxplot(preprocessed_ds['residual sugar'], notch=True)\n",
    "plt.title(f'Boxplot de residual sugar')\n",
    "plt.xlabel('residual sugar')\n",
    "plt.ylabel('Valores')\n",
    "plt.ylim(0, 11)\n",
    "plt.show()"
   ]
  },
  {
   "cell_type": "markdown",
   "metadata": {},
   "source": [
    "##### CHLORIDES"
   ]
  },
  {
   "cell_type": "code",
   "execution_count": 45,
   "metadata": {},
   "outputs": [
    {
     "data": {
      "image/png": "[encoded data removed]",
      "text/plain": [
       "<Figure size 800x600 with 1 Axes>"
      ]
     },
     "metadata": {},
     "output_type": "display_data"
    }
   ],
   "source": [
    "plt.figure(figsize=(8, 6))\n",
    "plt.boxplot(preprocessed_ds['chlorides'], notch=True)\n",
    "plt.title(f'Boxplot de chlorides')\n",
    "plt.xlabel('chlorides')\n",
    "plt.ylabel('Valores')\n",
    "plt.show()"
   ]
  },
  {
   "cell_type": "markdown",
   "metadata": {},
   "source": [
    "Mejoramos las escalas, para que se pueda ver la distribución..."
   ]
  },
  {
   "cell_type": "code",
   "execution_count": 46,
   "metadata": {},
   "outputs": [
    {
     "data": {
      "image/png": "[encoded data removed]",
      "text/plain": [
       "<Figure size 800x600 with 1 Axes>"
      ]
     },
     "metadata": {},
     "output_type": "display_data"
    }
   ],
   "source": [
    "plt.figure(figsize=(8, 6))\n",
    "plt.boxplot(preprocessed_ds['chlorides'], notch=True)\n",
    "plt.title(f'Boxplot de chlorides')\n",
    "plt.xlabel('chlorides')\n",
    "plt.ylim(0, 0.14)\n",
    "plt.ylabel('Valores')\n",
    "plt.show()"
   ]
  },
  {
   "cell_type": "markdown",
   "metadata": {},
   "source": [
    "##### FREE SULFUR DIOXIDE"
   ]
  },
  {
   "cell_type": "code",
   "execution_count": 47,
   "metadata": {},
   "outputs": [
    {
     "data": {
      "image/png": "[encoded data removed]",
      "text/plain": [
       "<Figure size 800x600 with 1 Axes>"
      ]
     },
     "metadata": {},
     "output_type": "display_data"
    }
   ],
   "source": [
    "plt.figure(figsize=(8, 6))\n",
    "plt.boxplot(preprocessed_ds['free sulfur dioxide'], notch=True)\n",
    "plt.title(f'Boxplot de free sulfur dioxide')\n",
    "plt.xlabel('free sulfur dioxide')\n",
    "plt.ylabel('Valores')\n",
    "plt.show()"
   ]
  },
  {
   "cell_type": "markdown",
   "metadata": {},
   "source": [
    "Mejoramos las escalas, para que se pueda ver la distribución..."
   ]
  },
  {
   "cell_type": "code",
   "execution_count": 48,
   "metadata": {},
   "outputs": [
    {
     "data": {
      "image/png": "[encoded data removed]",
      "text/plain": [
       "<Figure size 800x600 with 1 Axes>"
      ]
     },
     "metadata": {},
     "output_type": "display_data"
    }
   ],
   "source": [
    "plt.figure(figsize=(8, 6))\n",
    "plt.boxplot(preprocessed_ds['free sulfur dioxide'], notch=True)\n",
    "plt.title(f'Boxplot de free sulfur dioxide')\n",
    "plt.xlabel('free sulfur dioxide')\n",
    "plt.ylabel('Valores')\n",
    "plt.ylim(0, 70)\n",
    "plt.show()"
   ]
  },
  {
   "cell_type": "markdown",
   "metadata": {},
   "source": [
    "##### TOTAL SULFUR DIOXIDE"
   ]
  },
  {
   "cell_type": "code",
   "execution_count": 50,
   "metadata": {},
   "outputs": [
    {
     "data": {
      "image/png": "[encoded data removed]",
      "text/plain": [
       "<Figure size 800x600 with 1 Axes>"
      ]
     },
     "metadata": {},
     "output_type": "display_data"
    }
   ],
   "source": [
    "plt.figure(figsize=(8, 6))\n",
    "plt.boxplot(preprocessed_ds[\"total sulfur dioxide\"], notch=True)\n",
    "plt.title(f'Boxplot de Total Sulfur Dioxide')\n",
    "plt.xlabel('Total Sulfur Dioxide')\n",
    "plt.ylabel('Valores')\n",
    "plt.show()"
   ]
  },
  {
   "cell_type": "markdown",
   "metadata": {},
   "source": [
    "Mejoramos las escalas, para que se pueda ver la distribución..."
   ]
  },
  {
   "cell_type": "code",
   "execution_count": 51,
   "metadata": {},
   "outputs": [
    {
     "data": {
      "image/png": "[encoded data removed]",
      "text/plain": [
       "<Figure size 800x600 with 1 Axes>"
      ]
     },
     "metadata": {},
     "output_type": "display_data"
    }
   ],
   "source": [
    "plt.figure(figsize=(8, 6))\n",
    "plt.boxplot(preprocessed_ds[\"total sulfur dioxide\"], notch=True)\n",
    "plt.title(f'Boxplot de Total Sulfur Dioxide')\n",
    "plt.xlabel('Total Sulfur Dioxide')\n",
    "plt.ylabel('Valores')\n",
    "plt.ylim(0, 300)\n",
    "plt.show()"
   ]
  },
  {
   "cell_type": "markdown",
   "metadata": {},
   "source": [
    "##### DENSITY"
   ]
  },
  {
   "cell_type": "code",
   "execution_count": 52,
   "metadata": {},
   "outputs": [
    {
     "data": {
      "image/png": "[encoded data removed]",
      "text/plain": [
       "<Figure size 800x600 with 1 Axes>"
      ]
     },
     "metadata": {},
     "output_type": "display_data"
    }
   ],
   "source": [
    "plt.figure(figsize=(8, 6))\n",
    "plt.boxplot(preprocessed_ds[\"density\"], notch=True)\n",
    "plt.title(f'Boxplot de Density')\n",
    "plt.xlabel('Density')\n",
    "plt.ylabel('Valores')\n",
    "plt.show()"
   ]
  },
  {
   "cell_type": "markdown",
   "metadata": {},
   "source": [
    "##### pH"
   ]
  },
  {
   "cell_type": "code",
   "execution_count": 53,
   "metadata": {},
   "outputs": [
    {
     "data": {
      "image/png": "[encoded data removed]",
      "text/plain": [
       "<Figure size 800x600 with 1 Axes>"
      ]
     },
     "metadata": {},
     "output_type": "display_data"
    }
   ],
   "source": [
    "plt.figure(figsize=(8, 6))\n",
    "plt.boxplot(preprocessed_ds['pH'], notch=True)\n",
    "plt.title(f'Boxplot de pH')\n",
    "plt.xlabel('pH')\n",
    "plt.ylabel('Valores')\n",
    "plt.show()"
   ]
  },
  {
   "cell_type": "markdown",
   "metadata": {},
   "source": [
    "Mejoramos las escalas, para que se pueda ver la distribución..."
   ]
  },
  {
   "cell_type": "code",
   "execution_count": 57,
   "metadata": {},
   "outputs": [
    {
     "data": {
      "image/png": "[encoded data removed]",
      "text/plain": [
       "<Figure size 800x600 with 1 Axes>"
      ]
     },
     "metadata": {},
     "output_type": "display_data"
    }
   ],
   "source": [
    "plt.figure(figsize=(8, 6))\n",
    "plt.boxplot(preprocessed_ds[\"pH\"], notch=True)\n",
    "plt.title(f'Boxplot de pH')\n",
    "plt.xlabel('Total Sulfur Dioxide')\n",
    "plt.ylabel('Valores')\n",
    "plt.ylim(2.75, 3.8)\n",
    "plt.show()"
   ]
  },
  {
   "cell_type": "markdown",
   "metadata": {},
   "source": [
    "##### SULPHATES"
   ]
  },
  {
   "cell_type": "code",
   "execution_count": 60,
   "metadata": {},
   "outputs": [
    {
     "data": {
      "image/png": "[encoded data removed]",
      "text/plain": [
       "<Figure size 800x600 with 1 Axes>"
      ]
     },
     "metadata": {},
     "output_type": "display_data"
    }
   ],
   "source": [
    "plt.figure(figsize=(8, 6))\n",
    "plt.boxplot(preprocessed_ds['sulphates'], notch=True)\n",
    "plt.title(f'Boxplot de Sulphates')\n",
    "plt.xlabel('Sulphates')\n",
    "plt.ylabel('Valores')\n",
    "plt.show()"
   ]
  },
  {
   "cell_type": "markdown",
   "metadata": {},
   "source": [
    "Mejoramos las escalas, para que se pueda ver la distribución..."
   ]
  },
  {
   "cell_type": "code",
   "execution_count": 62,
   "metadata": {},
   "outputs": [
    {
     "data": {
      "image/png": "[encoded data removed]",
      "text/plain": [
       "<Figure size 800x600 with 1 Axes>"
      ]
     },
     "metadata": {},
     "output_type": "display_data"
    }
   ],
   "source": [
    "plt.figure(figsize=(8, 6))\n",
    "plt.boxplot(preprocessed_ds['sulphates'], notch=True)\n",
    "plt.title(f'Boxplot de Sulphates')\n",
    "plt.xlabel('Sulphates')\n",
    "plt.ylabel('Valores')\n",
    "plt.ylim(0.2, 1)\n",
    "plt.show()"
   ]
  },
  {
   "cell_type": "markdown",
   "metadata": {},
   "source": [
    "##### ALCOHOL"
   ]
  },
  {
   "cell_type": "code",
   "execution_count": 63,
   "metadata": {},
   "outputs": [
    {
     "data": {
      "image/png": "[encoded data removed]",
      "text/plain": [
       "<Figure size 800x600 with 1 Axes>"
      ]
     },
     "metadata": {},
     "output_type": "display_data"
    }
   ],
   "source": [
    "plt.figure(figsize=(8, 6))\n",
    "plt.boxplot(preprocessed_ds['alcohol'], notch=True)\n",
    "plt.title(f'Boxplot de Alcohol')\n",
    "plt.xlabel('Alcohol')\n",
    "plt.ylabel('Valores')\n",
    "plt.show()"
   ]
  },
  {
   "cell_type": "markdown",
   "metadata": {},
   "source": [
    "Mejoramos las escalas, para que se pueda ver la distribución..."
   ]
  },
  {
   "cell_type": "code",
   "execution_count": 68,
   "metadata": {},
   "outputs": [
    {
     "data": {
      "image/png": "[encoded data removed]",
      "text/plain": [
       "<Figure size 800x600 with 1 Axes>"
      ]
     },
     "metadata": {},
     "output_type": "display_data"
    }
   ],
   "source": [
    "plt.figure(figsize=(8, 6))\n",
    "plt.boxplot(preprocessed_ds['alcohol'], notch=True)\n",
    "plt.title(f'Boxplot de Alcohol')\n",
    "plt.xlabel('Alcohol')\n",
    "plt.ylabel('Valores')\n",
    "plt.ylim(8, 13.6)\n",
    "plt.show()"
   ]
  },
  {
   "cell_type": "markdown",
   "metadata": {},
   "source": [
    "##### TYPE"
   ]
  },
  {
   "cell_type": "code",
   "execution_count": 71,
   "metadata": {},
   "outputs": [
    {
     "data": {
      "image/png": "[encoded data removed]",
      "text/plain": [
       "<Figure size 640x480 with 1 Axes>"
      ]
     },
     "metadata": {},
     "output_type": "display_data"
    }
   ],
   "source": [
    "type_couts = preprocessed_ds['type_Riesling'].value_counts()\n",
    "\n",
    "def autopct_func(pct, allvals):\n",
    "    absolute = int(round(pct/100.*sum(allvals)))\n",
    "    return f'{pct:.1f}%\\n({absolute})'\n",
    "\n",
    "plt.pie(type_couts, labels=['Riesling', 'Garnacha'], autopct=lambda pct: autopct_func(pct, type_couts), colors=['#c4f562', '#b286e6'])\n",
    "\n",
    "plt.title('Distribución de Vinos Riesling y Garnacha')\n",
    "plt.show()"
   ]
  },
  {
   "cell_type": "markdown",
   "metadata": {},
   "source": [
    "##### QUALITY"
   ]
  },
  {
   "cell_type": "code",
   "execution_count": 79,
   "metadata": {},
   "outputs": [
    {
     "data": {
      "image/png": "[encoded data removed]",
      "text/plain": [
       "<Figure size 1200x600 with 2 Axes>"
      ]
     },
     "metadata": {},
     "output_type": "display_data"
    }
   ],
   "source": [
    "riesling_counts = preprocessed_ds[preprocessed_ds['type_Riesling'] == 1]['quality'].value_counts().sort_index()\n",
    "garnacha_counts = preprocessed_ds[preprocessed_ds['type_Riesling'] == 0]['quality'].value_counts().sort_index()\n",
    "\n",
    "# Creo la figura y los subgráficos\n",
    "fig, axes = plt.subplots(nrows=1, ncols=2, figsize=(12, 6), sharey=True)\n",
    "\n",
    "# Barras de Riesling\n",
    "axes[0].bar(riesling_counts.index, riesling_counts.values, color='#c4f562')\n",
    "axes[0].set_title('Riesling')\n",
    "axes[0].set_xlabel('Quality')\n",
    "axes[0].set_ylabel('Cantidad')\n",
    "axes[0].grid(True)\n",
    "\n",
    "# Barras de Garnacha\n",
    "axes[1].bar(garnacha_counts.index, garnacha_counts.values, color='#7747c1')\n",
    "axes[1].set_title('Garnacha')\n",
    "axes[1].set_xlabel('Quality')\n",
    "axes[1].grid(True)\n",
    "\n",
    "plt.suptitle('Cantidad de valores por calidad y tipo de vino')\n",
    "plt.tight_layout(rect=[0, 0, 1, 0.95])\n",
    "plt.show()\n",
    "plt.close()"
   ]
  },
  {
   "cell_type": "markdown",
   "metadata": {},
   "source": []
  },
  {
   "cell_type": "markdown",
   "metadata": {},
   "source": [
    "## Estudio bivariado\n",
    "\n",
    "- correlaciones, heatmap, matriz umbralizada, matriz de s plots, scatter plots por separado, p-valores para el informe.\n",
    "- Primeras conclusiones sobre correlaciones."
   ]
  },
  {
   "cell_type": "markdown",
   "metadata": {},
   "source": [
    "## Estudio multivariado\n",
    "\n",
    "- correlaciones, heatmap, matriz umbralizada, matriz de s plots, scatter plots por separado, p-valores para el informe.\n",
    "- Primeras conclusiones sobre correlaciones."
   ]
  },
  {
   "cell_type": "markdown",
   "metadata": {},
   "source": [
    "## Test de Hipótesis\n",
    "\n",
    "- correlaciones, heatmap, matriz umbralizada, matriz de s plots, scatter plots por separado, p-valores para el informe.\n",
    "- Primeras conclusiones sobre correlaciones."
   ]
  },
  {
   "cell_type": "markdown",
   "metadata": {},
   "source": [
    "# DUDAS & NOTAS"
   ]
  },
  {
   "cell_type": "markdown",
   "metadata": {},
   "source": [
    "**NOTA:** CORREGIR TILDES Y NÚMEROS CON LETRAS O SIMBOLOS.  \n",
    "**NOTA:** HAY NUMEROS EN DENSITY CON DISTINTAS PROFUNDIDADES.  \n",
    "\n",
    "**AGREGAR:** FUENTES LPM.   \n",
    "**AGREGAR:** ANALISIS DE PARA QUE SERVIRÍA CADA VARIABLE.  \n",
    "**AGREGAR:** ANALIZAR EL RESTO DE ATRIBUTOS DE LA FILA \"density\" PARA SABER SI INFLUYEN EN LOS VALORES, O LOS PODEMOS BORRAR DEL DATASET.  \n",
    "  \n",
    "**DUDA:** EN ALGUNAS COLUMNAS HAY POCOS FLOAT. LOS DEJAMOS COMO ENTEROS?.  \n",
    "**DUDA:** MUCHOS PROFILEREPORT.  \n",
    "**DUDA:** LA METODOLOGIA ES CORRECTA?.  \n",
    "**DUDA:** HACEMOS LAS HIPOTESIS Y LUEGO EN BASE A ELLAS EL ANÁLISIS UNIVARIADO/BIVARIADO/MULTIVARIADO?.  \n",
    "**DUDA:** PODEMOS IR A LO QUE NOS COMPETE Y SALTEARNOS COSAS (EVITAR HACER BIVARIADO)?.  \n",
    "**DUDA:** COMO PROBAMOS LO DE LOS PROMEDIOS?.  \n",
    "**DUDA:** EL ANALISIS UNIVARIADO VA EN LA NOTEBOOK O EN EL INFORME?.  \n",
    "**DUDA:** PODEMOS USAR GRAFICOS SOLO PARA PROBAR HIPOTESIS? ES REALMENTE NECESARIO HACER GRAFICOS DE LAS DISTRB EN EL UNIVARIADO?.  \n",
    "**DUDA:** QUE TENEMOS QUE HACER PARA TENER UNA BUENA NOTA.  \n",
    "\n",
    "**DUDAS RESPONDIDAS:** SE DEBE BORRAR LA COLUMNA TYPE ORIGINAL LUEGO DEL DUMMY ENCODING. _(respondida)_ si.  \n",
    "**DUDAS RESPONDIDAS:** HACER ESCALADO ANTES DEL ANÁLISIS UNIVARIADO.  _(respondida)_ el escalado no se hace sin motivo.  \n",
    "**DUDAS RESPONDIDAS:** ES NECESARIO COPIAR EL DATASET CUANDO CAMBIAMOS EL TIPO DEL DATO A FLOAT DE UNA FEATURE (Y CUANDO BORRAMOS COLUMNAS NULAS?)? _(respondida)_ si   \n",
    "**DUDAS RESPONDIDAS:** MUCHOS OUTLIERS EN \"DENSITY\", VALORES SIN SENTIDO. ,99 < DENSITY < 1,015 _(respondida)_ nota agregar  \n",
    "**DUDAS RESPONDIDAS:** SE PUEDE MEJORAR LA PRECISION DEL VALUE_COUNTS DE OTRA MANERA A LA NUESTRA (CORRECCION DE ALCOHOL)? _(respondida)_ si, usando gráficos.   \n",
    "**DUDAS RESPONDIDAS:** ES NECESARIO QUE SEA TAN ATÓMICA LA NOTEBOOK? _(respondida)_ si .   \n",
    "**DUDAS RESPONDIDAS:** TENEMOS QUÉ EXPLICAR DE DÓNDE SACAMOS EL TIPO DE DATO DE CADA VARIABLE? _(respondida)_ no.  \n",
    "**DUDAS RESPONDIDAS:** DONDE PONEMOS LA BIBLIOGRAFIA. _(respondida)_ en el informe.    \n",
    "**DUDAS RESPONDIDAS:** REVISAR LA EXPLICACION DE LO DEL ALCOHOL Y DENSITY. _(respondida)_ esta bien.     \n",
    "**DUDAS RESPONDIDAS:** OUTLIER EN ACIDO CITRICO (PARECE SER RANDOM NO HAY RELACION CON EL RESTO DE ATRIBUTOS). _(respondida)_ no se hace nada  \n",
    "**DUDAS RESPONDIDAS:** PREGUNTAR SOBRE SI EL 1.66 DE CITRIC ACID DEBERÍA CORREGIRSE PORQ ESTAMOS HABLANDO DE UN VALOR ILEGAL O NO COHERENTE CON LO QUE UNO ESPERA DEL VINO (ANALIZAR RESPECTO DE LOS OTROS ATRIBUTOS). _(respondida)_ no se sabe ni el año ni el lugar de la muestra, no aporta nada    \n",
    "**DUDAS RESPONDIDAS:** ESTANDARIZAR O NORMALIZAR O ESTANDARIZACION ROBUSTA. _(respondida)_ la robusta no esta justificada porque si bien hay outliers no son mas de 2.    \n",
    "**DUDAS RESPONDIDAS:** DUPLICADOS (NO AFECTAN LA DISTRIBUCION, NO APORTAN OUTLIERS EN ACIDO CITRICO PERO SI EN EL RESTO, BAJA PRECISION CON DATOS GENERA REPETIDOS). _(respondida)_ es una observacion, pero no alteran la distribucion de la muestra y podrían ser posible.   "
   ]
  },
  {
   "cell_type": "markdown",
   "metadata": {},
   "source": [
    "#### ESCALADO"
   ]
  },
  {
   "cell_type": "code",
   "execution_count": 96,
   "metadata": {},
   "outputs": [],
   "source": [
    "# reporte = ProfileReport(preprocessed_ds)\n",
    "# reporte.to_notebook_iframe()"
   ]
  },
  {
   "cell_type": "markdown",
   "metadata": {},
   "source": [
    "Como vemos en el reporte, el _pH_ es la única _feature_ que parece seguir una distribución parecida a la normal y que podría ser \"estandarizable\". El resto de distribuciones, no tienen suficientes outliers como para aplicar una estandarización robusta, por lo que normalizamos y no hacemos suposiciones."
   ]
  },
  {
   "cell_type": "code",
   "execution_count": 97,
   "metadata": {},
   "outputs": [
    {
     "data": {
      "text/plain": [
       "'\\nfrom sklearn.preprocessing import MinMaxScaler\\n\\n# Inicializar el MinMaxScaler\\nscaler = MinMaxScaler()\\n\\ncol_excluidas = [\"pH\", \"type_Riesling\", \"chlorides\"]\\n\\ncol_normalizar = list(preprocessed_ds.columns)\\n\\nfor col in col_excluidas :\\n    col_normalizar.remove(col)\\n\\npreprocessed_ds[col_normalizar] = scaler.fit_transform(preprocessed_ds[col_normalizar])\\n\\npreprocessed_ds.head()\\n\\n'"
      ]
     },
     "execution_count": 97,
     "metadata": {},
     "output_type": "execute_result"
    }
   ],
   "source": [
    "\"\"\"\n",
    "from sklearn.preprocessing import MinMaxScaler\n",
    "\n",
    "# Inicializar el MinMaxScaler\n",
    "scaler = MinMaxScaler()\n",
    "\n",
    "col_excluidas = [\"pH\", \"type_Riesling\", \"chlorides\"]\n",
    "\n",
    "col_normalizar = list(preprocessed_ds.columns)\n",
    "\n",
    "for col in col_excluidas :\n",
    "    col_normalizar.remove(col)\n",
    "\n",
    "preprocessed_ds[col_normalizar] = scaler.fit_transform(preprocessed_ds[col_normalizar])\n",
    "\n",
    "preprocessed_ds.head()\n",
    "\n",
    "\"\"\""
   ]
  }
 ],
 "metadata": {
  "kernelspec": {
   "display_name": ".venv",
   "language": "python",
   "name": "python3"
  },
  "language_info": {
   "codemirror_mode": {
    "name": "ipython",
    "version": 3
   },
   "file_extension": ".py",
   "mimetype": "text/x-python",
   "name": "python",
   "nbconvert_exporter": "python",
   "pygments_lexer": "ipython3",
   "version": "3.11.5"
  }
 },
 "nbformat": 4,
 "nbformat_minor": 2
}

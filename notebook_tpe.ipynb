{
 "cells": [
  {
   "cell_type": "markdown",
   "metadata": {},
   "source": [
    "# Trabajo práctico especial\n",
    "\n",
    "Materia: Fundamentos de la Ciencia de Datos.  \n",
    "Integrantes: León Nicolás, Ortiz Matías y Ramírez Gonzalo.    "
   ]
  },
  {
   "cell_type": "markdown",
   "metadata": {},
   "source": [
    "## Datos sobre el dataset\n",
    "\n",
    "Este conjunto de datos contiene 3232 muestras de vino obtenidas mediante pruebas fisicoquímicas en la bodega El Refugio, elaboradas a partir de dos tipos de uva.\n",
    "\n",
    "### Descripción de las variables:\n",
    "\n",
    "- **type**: tipo de uva con la que se elabora el vino.\n",
    "- **fixed acidity**: cantidad de ácidos no volátiles presentes en el vino, medida en gramos por litro.\n",
    "- **volatile acidity**: cantidad de ácidos volátiles presentes en el vino, medida en gramos por litro. \n",
    "- **citric acid**: contenido de ácido cítrico en el vino, medido en gramos por litro.\n",
    "- **residual sugar**: cantidad de azúcar que queda en el vino después de la fermentación, medida en gramos por litro. \n",
    "- **chlorides**: concentración de cloruros (sales) en el vino, medida en gramos por litro.\n",
    "- **free sulfur dioxide**: cantidad de dióxido de azufre que no está ligado químicamente en el vino, medida en miligramos por litro. \n",
    "- **total sulfur dioxide**: suma del dióxido de azufre libre y el combinado en el vino, medida en miligramos por litro.\n",
    "- **density**: medida de la masa por unidad de volumen del vino, utilizada para estimar la concentración de sólidos disueltos, medida en gramos por centímetro cúbico.\n",
    "- **pH**: medida de la acidez o alcalinidad del vino. \n",
    "- **sulphates**: concentración de sales de sulfato en el vino, medida en gramos por litro. \n",
    "- **alcohol**: contenido alcohólico del vino, medido en porcentaje de volumen (% vol).\n",
    "- **quality**: puntuación del vino, con una escala que va de 0 a 10.\n"
   ]
  },
  {
   "cell_type": "markdown",
   "metadata": {},
   "source": [
    "## Metodología del análisis\n",
    "\n",
    "En esta notebook, vamos a realizar un análisis exploratorio de los datos, siguiendo el orden mostrado a continuación:  \n",
    "\n",
    "**1 -** Preparación del archivo \".csv\"  \n",
    "**2 -** Estudio de los tipos de datos y unidades.  \n",
    "**3 -** Estudio de valores nulos.  \n",
    "**4 -** Transformación del dataset.  \n",
    "**5 -** Estudio univariado.  \n",
    "**6 -** Estudio bivariado.  \n",
    "**7 -** Conclusiones.  "
   ]
  },
  {
   "cell_type": "markdown",
   "metadata": {},
   "source": [
    "## Preparación del archivo \".csv\""
   ]
  },
  {
   "cell_type": "markdown",
   "metadata": {},
   "source": [
    "Como para empezar, vemos el archivo _.csv_ no está separado por comas, sino por los punto y coma. Lo abrimos de la forma correspondiente:"
   ]
  },
  {
   "cell_type": "code",
   "execution_count": 28,
   "metadata": {},
   "outputs": [],
   "source": [
    "import pandas as pd\n",
    "\n",
    "raw_ds = pd.read_csv(\"winequality_BR.csv\", sep = ';')"
   ]
  },
  {
   "cell_type": "markdown",
   "metadata": {},
   "source": [
    "Al utilizar la función _head()_, vemos que en el archivo aparecen columnas vacías y sin nombre."
   ]
  },
  {
   "cell_type": "code",
   "execution_count": 29,
   "metadata": {},
   "outputs": [
    {
     "data": {
      "text/html": [
       "<div>\n",
       "<style scoped>\n",
       "    .dataframe tbody tr th:only-of-type {\n",
       "        vertical-align: middle;\n",
       "    }\n",
       "\n",
       "    .dataframe tbody tr th {\n",
       "        vertical-align: top;\n",
       "    }\n",
       "\n",
       "    .dataframe thead th {\n",
       "        text-align: right;\n",
       "    }\n",
       "</style>\n",
       "<table border=\"1\" class=\"dataframe\">\n",
       "  <thead>\n",
       "    <tr style=\"text-align: right;\">\n",
       "      <th></th>\n",
       "      <th>type</th>\n",
       "      <th>fixed acidity</th>\n",
       "      <th>volatile acidity</th>\n",
       "      <th>citric acid</th>\n",
       "      <th>residual sugar</th>\n",
       "      <th>chlorides</th>\n",
       "      <th>free sulfur dioxide</th>\n",
       "      <th>total sulfur dioxide</th>\n",
       "      <th>density</th>\n",
       "      <th>pH</th>\n",
       "      <th>sulphates</th>\n",
       "      <th>alcohol</th>\n",
       "      <th>quality</th>\n",
       "      <th>Unnamed: 13</th>\n",
       "      <th>Unnamed: 14</th>\n",
       "      <th>Unnamed: 15</th>\n",
       "    </tr>\n",
       "  </thead>\n",
       "  <tbody>\n",
       "    <tr>\n",
       "      <th>0</th>\n",
       "      <td>Riesling</td>\n",
       "      <td>7.0</td>\n",
       "      <td>0.27</td>\n",
       "      <td>0.36</td>\n",
       "      <td>20.7</td>\n",
       "      <td>0.045</td>\n",
       "      <td>45.0</td>\n",
       "      <td>170.0</td>\n",
       "      <td>1.0010</td>\n",
       "      <td>3.00</td>\n",
       "      <td>0.45</td>\n",
       "      <td>8.8</td>\n",
       "      <td>6</td>\n",
       "      <td>NaN</td>\n",
       "      <td>NaN</td>\n",
       "      <td>NaN</td>\n",
       "    </tr>\n",
       "    <tr>\n",
       "      <th>1</th>\n",
       "      <td>Riesling</td>\n",
       "      <td>6.3</td>\n",
       "      <td>0.30</td>\n",
       "      <td>0.34</td>\n",
       "      <td>1.6</td>\n",
       "      <td>0.049</td>\n",
       "      <td>14.0</td>\n",
       "      <td>132.0</td>\n",
       "      <td>0.9940</td>\n",
       "      <td>3.30</td>\n",
       "      <td>0.49</td>\n",
       "      <td>9.5</td>\n",
       "      <td>6</td>\n",
       "      <td>NaN</td>\n",
       "      <td>NaN</td>\n",
       "      <td>NaN</td>\n",
       "    </tr>\n",
       "    <tr>\n",
       "      <th>2</th>\n",
       "      <td>Riesling</td>\n",
       "      <td>8.1</td>\n",
       "      <td>0.28</td>\n",
       "      <td>0.40</td>\n",
       "      <td>6.9</td>\n",
       "      <td>0.050</td>\n",
       "      <td>30.0</td>\n",
       "      <td>97.0</td>\n",
       "      <td>0.9951</td>\n",
       "      <td>3.26</td>\n",
       "      <td>0.44</td>\n",
       "      <td>10.1</td>\n",
       "      <td>6</td>\n",
       "      <td>NaN</td>\n",
       "      <td>NaN</td>\n",
       "      <td>NaN</td>\n",
       "    </tr>\n",
       "    <tr>\n",
       "      <th>3</th>\n",
       "      <td>Riesling</td>\n",
       "      <td>7.2</td>\n",
       "      <td>0.23</td>\n",
       "      <td>0.32</td>\n",
       "      <td>8.5</td>\n",
       "      <td>0.058</td>\n",
       "      <td>47.0</td>\n",
       "      <td>186.0</td>\n",
       "      <td>0.9956</td>\n",
       "      <td>3.19</td>\n",
       "      <td>0.40</td>\n",
       "      <td>9.9</td>\n",
       "      <td>6</td>\n",
       "      <td>NaN</td>\n",
       "      <td>NaN</td>\n",
       "      <td>NaN</td>\n",
       "    </tr>\n",
       "    <tr>\n",
       "      <th>4</th>\n",
       "      <td>Riesling</td>\n",
       "      <td>7.2</td>\n",
       "      <td>0.23</td>\n",
       "      <td>0.32</td>\n",
       "      <td>8.5</td>\n",
       "      <td>0.058</td>\n",
       "      <td>47.0</td>\n",
       "      <td>186.0</td>\n",
       "      <td>0.9956</td>\n",
       "      <td>3.19</td>\n",
       "      <td>0.40</td>\n",
       "      <td>9.9</td>\n",
       "      <td>6</td>\n",
       "      <td>NaN</td>\n",
       "      <td>NaN</td>\n",
       "      <td>NaN</td>\n",
       "    </tr>\n",
       "  </tbody>\n",
       "</table>\n",
       "</div>"
      ],
      "text/plain": [
       "       type  fixed acidity  volatile acidity  citric acid  residual sugar  \\\n",
       "0  Riesling            7.0              0.27         0.36            20.7   \n",
       "1  Riesling            6.3              0.30         0.34             1.6   \n",
       "2  Riesling            8.1              0.28         0.40             6.9   \n",
       "3  Riesling            7.2              0.23         0.32             8.5   \n",
       "4  Riesling            7.2              0.23         0.32             8.5   \n",
       "\n",
       "   chlorides  free sulfur dioxide  total sulfur dioxide  density    pH  \\\n",
       "0      0.045                 45.0                 170.0   1.0010  3.00   \n",
       "1      0.049                 14.0                 132.0   0.9940  3.30   \n",
       "2      0.050                 30.0                  97.0   0.9951  3.26   \n",
       "3      0.058                 47.0                 186.0   0.9956  3.19   \n",
       "4      0.058                 47.0                 186.0   0.9956  3.19   \n",
       "\n",
       "   sulphates alcohol  quality  Unnamed: 13  Unnamed: 14 Unnamed: 15  \n",
       "0       0.45     8.8        6          NaN          NaN         NaN  \n",
       "1       0.49     9.5        6          NaN          NaN         NaN  \n",
       "2       0.44    10.1        6          NaN          NaN         NaN  \n",
       "3       0.40     9.9        6          NaN          NaN         NaN  \n",
       "4       0.40     9.9        6          NaN          NaN         NaN  "
      ]
     },
     "execution_count": 29,
     "metadata": {},
     "output_type": "execute_result"
    }
   ],
   "source": [
    "raw_ds.head()"
   ]
  },
  {
   "cell_type": "markdown",
   "metadata": {},
   "source": [
    "Al quitar las columnas con la función _dropna_, pudimos observar que la columna _\"Unnamed: 15\"_ sigue apareciendo. Esto indica que, la misma tiene al menos un valor no nulo."
   ]
  },
  {
   "cell_type": "code",
   "execution_count": 30,
   "metadata": {},
   "outputs": [
    {
     "data": {
      "text/html": [
       "<div>\n",
       "<style scoped>\n",
       "    .dataframe tbody tr th:only-of-type {\n",
       "        vertical-align: middle;\n",
       "    }\n",
       "\n",
       "    .dataframe tbody tr th {\n",
       "        vertical-align: top;\n",
       "    }\n",
       "\n",
       "    .dataframe thead th {\n",
       "        text-align: right;\n",
       "    }\n",
       "</style>\n",
       "<table border=\"1\" class=\"dataframe\">\n",
       "  <thead>\n",
       "    <tr style=\"text-align: right;\">\n",
       "      <th></th>\n",
       "      <th>type</th>\n",
       "      <th>fixed acidity</th>\n",
       "      <th>volatile acidity</th>\n",
       "      <th>citric acid</th>\n",
       "      <th>residual sugar</th>\n",
       "      <th>chlorides</th>\n",
       "      <th>free sulfur dioxide</th>\n",
       "      <th>total sulfur dioxide</th>\n",
       "      <th>density</th>\n",
       "      <th>pH</th>\n",
       "      <th>sulphates</th>\n",
       "      <th>alcohol</th>\n",
       "      <th>quality</th>\n",
       "      <th>Unnamed: 15</th>\n",
       "    </tr>\n",
       "  </thead>\n",
       "  <tbody>\n",
       "    <tr>\n",
       "      <th>0</th>\n",
       "      <td>Riesling</td>\n",
       "      <td>7.0</td>\n",
       "      <td>0.27</td>\n",
       "      <td>0.36</td>\n",
       "      <td>20.7</td>\n",
       "      <td>0.045</td>\n",
       "      <td>45.0</td>\n",
       "      <td>170.0</td>\n",
       "      <td>1.0010</td>\n",
       "      <td>3.00</td>\n",
       "      <td>0.45</td>\n",
       "      <td>8.8</td>\n",
       "      <td>6</td>\n",
       "      <td>NaN</td>\n",
       "    </tr>\n",
       "    <tr>\n",
       "      <th>1</th>\n",
       "      <td>Riesling</td>\n",
       "      <td>6.3</td>\n",
       "      <td>0.30</td>\n",
       "      <td>0.34</td>\n",
       "      <td>1.6</td>\n",
       "      <td>0.049</td>\n",
       "      <td>14.0</td>\n",
       "      <td>132.0</td>\n",
       "      <td>0.9940</td>\n",
       "      <td>3.30</td>\n",
       "      <td>0.49</td>\n",
       "      <td>9.5</td>\n",
       "      <td>6</td>\n",
       "      <td>NaN</td>\n",
       "    </tr>\n",
       "    <tr>\n",
       "      <th>2</th>\n",
       "      <td>Riesling</td>\n",
       "      <td>8.1</td>\n",
       "      <td>0.28</td>\n",
       "      <td>0.40</td>\n",
       "      <td>6.9</td>\n",
       "      <td>0.050</td>\n",
       "      <td>30.0</td>\n",
       "      <td>97.0</td>\n",
       "      <td>0.9951</td>\n",
       "      <td>3.26</td>\n",
       "      <td>0.44</td>\n",
       "      <td>10.1</td>\n",
       "      <td>6</td>\n",
       "      <td>NaN</td>\n",
       "    </tr>\n",
       "    <tr>\n",
       "      <th>3</th>\n",
       "      <td>Riesling</td>\n",
       "      <td>7.2</td>\n",
       "      <td>0.23</td>\n",
       "      <td>0.32</td>\n",
       "      <td>8.5</td>\n",
       "      <td>0.058</td>\n",
       "      <td>47.0</td>\n",
       "      <td>186.0</td>\n",
       "      <td>0.9956</td>\n",
       "      <td>3.19</td>\n",
       "      <td>0.40</td>\n",
       "      <td>9.9</td>\n",
       "      <td>6</td>\n",
       "      <td>NaN</td>\n",
       "    </tr>\n",
       "    <tr>\n",
       "      <th>4</th>\n",
       "      <td>Riesling</td>\n",
       "      <td>7.2</td>\n",
       "      <td>0.23</td>\n",
       "      <td>0.32</td>\n",
       "      <td>8.5</td>\n",
       "      <td>0.058</td>\n",
       "      <td>47.0</td>\n",
       "      <td>186.0</td>\n",
       "      <td>0.9956</td>\n",
       "      <td>3.19</td>\n",
       "      <td>0.40</td>\n",
       "      <td>9.9</td>\n",
       "      <td>6</td>\n",
       "      <td>NaN</td>\n",
       "    </tr>\n",
       "  </tbody>\n",
       "</table>\n",
       "</div>"
      ],
      "text/plain": [
       "       type  fixed acidity  volatile acidity  citric acid  residual sugar  \\\n",
       "0  Riesling            7.0              0.27         0.36            20.7   \n",
       "1  Riesling            6.3              0.30         0.34             1.6   \n",
       "2  Riesling            8.1              0.28         0.40             6.9   \n",
       "3  Riesling            7.2              0.23         0.32             8.5   \n",
       "4  Riesling            7.2              0.23         0.32             8.5   \n",
       "\n",
       "   chlorides  free sulfur dioxide  total sulfur dioxide  density    pH  \\\n",
       "0      0.045                 45.0                 170.0   1.0010  3.00   \n",
       "1      0.049                 14.0                 132.0   0.9940  3.30   \n",
       "2      0.050                 30.0                  97.0   0.9951  3.26   \n",
       "3      0.058                 47.0                 186.0   0.9956  3.19   \n",
       "4      0.058                 47.0                 186.0   0.9956  3.19   \n",
       "\n",
       "   sulphates alcohol  quality Unnamed: 15  \n",
       "0       0.45     8.8        6         NaN  \n",
       "1       0.49     9.5        6         NaN  \n",
       "2       0.44    10.1        6         NaN  \n",
       "3       0.40     9.9        6         NaN  \n",
       "4       0.40     9.9        6         NaN  "
      ]
     },
     "execution_count": 30,
     "metadata": {},
     "output_type": "execute_result"
    }
   ],
   "source": [
    "raw_ds = raw_ds.dropna(axis=1, how='all')\n",
    "raw_ds.head()"
   ]
  },
  {
   "cell_type": "markdown",
   "metadata": {},
   "source": [
    "Utilizando la función de _value_counts()_ vemos cuál es el valor no nulo y cuántos de estos hay."
   ]
  },
  {
   "cell_type": "code",
   "execution_count": 31,
   "metadata": {},
   "outputs": [
    {
     "data": {
      "text/plain": [
       "Unnamed: 15\n",
       "Riesling    1\n",
       "Name: count, dtype: int64"
      ]
     },
     "execution_count": 31,
     "metadata": {},
     "output_type": "execute_result"
    }
   ],
   "source": [
    "raw_ds[\"Unnamed: 15\"].value_counts()"
   ]
  },
  {
   "cell_type": "markdown",
   "metadata": {},
   "source": [
    "Dado que, el valor no nulo de la columna _Unnamed: 15_ es igual a uno de los valores de la columna _type_, comprobamos que, no haya datos faltantes en esta última porque quizá podría haber ocurrido un error que cause este \"desplazamiento\" del dato."
   ]
  },
  {
   "cell_type": "code",
   "execution_count": 32,
   "metadata": {},
   "outputs": [
    {
     "name": "stdout",
     "output_type": "stream",
     "text": [
      "La cantidad de valores nulos de type es: 0\n"
     ]
    }
   ],
   "source": [
    "cant_nulos = raw_ds[\"type\"].isna().sum()\n",
    "print(f\"La cantidad de valores nulos de type es: {cant_nulos}\")\n"
   ]
  },
  {
   "cell_type": "markdown",
   "metadata": {},
   "source": [
    "Procedemos borrando la columna que no aporta ningún tipo de información. "
   ]
  },
  {
   "cell_type": "code",
   "execution_count": 33,
   "metadata": {},
   "outputs": [
    {
     "data": {
      "text/html": [
       "<div>\n",
       "<style scoped>\n",
       "    .dataframe tbody tr th:only-of-type {\n",
       "        vertical-align: middle;\n",
       "    }\n",
       "\n",
       "    .dataframe tbody tr th {\n",
       "        vertical-align: top;\n",
       "    }\n",
       "\n",
       "    .dataframe thead th {\n",
       "        text-align: right;\n",
       "    }\n",
       "</style>\n",
       "<table border=\"1\" class=\"dataframe\">\n",
       "  <thead>\n",
       "    <tr style=\"text-align: right;\">\n",
       "      <th></th>\n",
       "      <th>type</th>\n",
       "      <th>fixed acidity</th>\n",
       "      <th>volatile acidity</th>\n",
       "      <th>citric acid</th>\n",
       "      <th>residual sugar</th>\n",
       "      <th>chlorides</th>\n",
       "      <th>free sulfur dioxide</th>\n",
       "      <th>total sulfur dioxide</th>\n",
       "      <th>density</th>\n",
       "      <th>pH</th>\n",
       "      <th>sulphates</th>\n",
       "      <th>alcohol</th>\n",
       "      <th>quality</th>\n",
       "    </tr>\n",
       "  </thead>\n",
       "  <tbody>\n",
       "    <tr>\n",
       "      <th>0</th>\n",
       "      <td>Riesling</td>\n",
       "      <td>7.0</td>\n",
       "      <td>0.27</td>\n",
       "      <td>0.36</td>\n",
       "      <td>20.7</td>\n",
       "      <td>0.045</td>\n",
       "      <td>45.0</td>\n",
       "      <td>170.0</td>\n",
       "      <td>1.0010</td>\n",
       "      <td>3.00</td>\n",
       "      <td>0.45</td>\n",
       "      <td>8.8</td>\n",
       "      <td>6</td>\n",
       "    </tr>\n",
       "    <tr>\n",
       "      <th>1</th>\n",
       "      <td>Riesling</td>\n",
       "      <td>6.3</td>\n",
       "      <td>0.30</td>\n",
       "      <td>0.34</td>\n",
       "      <td>1.6</td>\n",
       "      <td>0.049</td>\n",
       "      <td>14.0</td>\n",
       "      <td>132.0</td>\n",
       "      <td>0.9940</td>\n",
       "      <td>3.30</td>\n",
       "      <td>0.49</td>\n",
       "      <td>9.5</td>\n",
       "      <td>6</td>\n",
       "    </tr>\n",
       "    <tr>\n",
       "      <th>2</th>\n",
       "      <td>Riesling</td>\n",
       "      <td>8.1</td>\n",
       "      <td>0.28</td>\n",
       "      <td>0.40</td>\n",
       "      <td>6.9</td>\n",
       "      <td>0.050</td>\n",
       "      <td>30.0</td>\n",
       "      <td>97.0</td>\n",
       "      <td>0.9951</td>\n",
       "      <td>3.26</td>\n",
       "      <td>0.44</td>\n",
       "      <td>10.1</td>\n",
       "      <td>6</td>\n",
       "    </tr>\n",
       "    <tr>\n",
       "      <th>3</th>\n",
       "      <td>Riesling</td>\n",
       "      <td>7.2</td>\n",
       "      <td>0.23</td>\n",
       "      <td>0.32</td>\n",
       "      <td>8.5</td>\n",
       "      <td>0.058</td>\n",
       "      <td>47.0</td>\n",
       "      <td>186.0</td>\n",
       "      <td>0.9956</td>\n",
       "      <td>3.19</td>\n",
       "      <td>0.40</td>\n",
       "      <td>9.9</td>\n",
       "      <td>6</td>\n",
       "    </tr>\n",
       "    <tr>\n",
       "      <th>4</th>\n",
       "      <td>Riesling</td>\n",
       "      <td>7.2</td>\n",
       "      <td>0.23</td>\n",
       "      <td>0.32</td>\n",
       "      <td>8.5</td>\n",
       "      <td>0.058</td>\n",
       "      <td>47.0</td>\n",
       "      <td>186.0</td>\n",
       "      <td>0.9956</td>\n",
       "      <td>3.19</td>\n",
       "      <td>0.40</td>\n",
       "      <td>9.9</td>\n",
       "      <td>6</td>\n",
       "    </tr>\n",
       "  </tbody>\n",
       "</table>\n",
       "</div>"
      ],
      "text/plain": [
       "       type  fixed acidity  volatile acidity  citric acid  residual sugar  \\\n",
       "0  Riesling            7.0              0.27         0.36            20.7   \n",
       "1  Riesling            6.3              0.30         0.34             1.6   \n",
       "2  Riesling            8.1              0.28         0.40             6.9   \n",
       "3  Riesling            7.2              0.23         0.32             8.5   \n",
       "4  Riesling            7.2              0.23         0.32             8.5   \n",
       "\n",
       "   chlorides  free sulfur dioxide  total sulfur dioxide  density    pH  \\\n",
       "0      0.045                 45.0                 170.0   1.0010  3.00   \n",
       "1      0.049                 14.0                 132.0   0.9940  3.30   \n",
       "2      0.050                 30.0                  97.0   0.9951  3.26   \n",
       "3      0.058                 47.0                 186.0   0.9956  3.19   \n",
       "4      0.058                 47.0                 186.0   0.9956  3.19   \n",
       "\n",
       "   sulphates alcohol  quality  \n",
       "0       0.45     8.8        6  \n",
       "1       0.49     9.5        6  \n",
       "2       0.44    10.1        6  \n",
       "3       0.40     9.9        6  \n",
       "4       0.40     9.9        6  "
      ]
     },
     "execution_count": 33,
     "metadata": {},
     "output_type": "execute_result"
    }
   ],
   "source": [
    "raw_ds = raw_ds.drop(columns=\"Unnamed: 15\", axis=1)\n",
    "raw_ds.head()"
   ]
  },
  {
   "cell_type": "markdown",
   "metadata": {},
   "source": [
    "## Estudio de los tipos de datos y unidades "
   ]
  },
  {
   "cell_type": "markdown",
   "metadata": {},
   "source": [
    "Comenzamos clasificando por tipo de dato a cada una de las _features_ del dataset:\n",
    "\n",
    "**- type:** dato cualitativo nominal.   \n",
    "**- fixed_acidity:** dato cuantitativo continuo.  \n",
    "**- volatile_acidity:** dato cuantitativo contiunuo.  \n",
    "**- citric acid:** dato cuantitativo continuo.  \n",
    "**- residual sugar:** dato cuantitativo continuo.  \n",
    "**- chlorides:** dato cuantitativo continuo.  \n",
    "**- free sulfur dioxide:** dato cuantitativo continuo.   \n",
    "**- total sulfur dioxide:** dato cuantitativo continuo.    \n",
    "**- density:** dato cuantitativo continuo.  \n",
    "**- pH:** dato cuantitativo continuo.  \n",
    "**- sulphates:** tipo de dato cuantiativo continuo.  \n",
    "**- alcohol:** tipo de dato cuantitativo continuo.  \n",
    "**- quality:** tipo de dato cuantitativo discreto.  "
   ]
  },
  {
   "cell_type": "markdown",
   "metadata": {},
   "source": [
    "Utilizando la  función _info_, podemos comparar los tipos de los datos definidos anteriormente, con los de Python. De esta manera, corregimos las discrepancias."
   ]
  },
  {
   "cell_type": "code",
   "execution_count": 34,
   "metadata": {},
   "outputs": [
    {
     "name": "stdout",
     "output_type": "stream",
     "text": [
      "<class 'pandas.core.frame.DataFrame'>\n",
      "RangeIndex: 3232 entries, 0 to 3231\n",
      "Data columns (total 13 columns):\n",
      " #   Column                Non-Null Count  Dtype  \n",
      "---  ------                --------------  -----  \n",
      " 0   type                  3232 non-null   object \n",
      " 1   fixed acidity         3232 non-null   float64\n",
      " 2   volatile acidity      3232 non-null   float64\n",
      " 3   citric acid           3232 non-null   float64\n",
      " 4   residual sugar        3232 non-null   float64\n",
      " 5   chlorides             3232 non-null   float64\n",
      " 6   free sulfur dioxide   3232 non-null   float64\n",
      " 7   total sulfur dioxide  3232 non-null   float64\n",
      " 8   density               3232 non-null   float64\n",
      " 9   pH                    3232 non-null   float64\n",
      " 10  sulphates             3232 non-null   float64\n",
      " 11  alcohol               3232 non-null   object \n",
      " 12  quality               3232 non-null   int64  \n",
      "dtypes: float64(10), int64(1), object(2)\n",
      "memory usage: 328.4+ KB\n"
     ]
    }
   ],
   "source": [
    "raw_ds.info()"
   ]
  },
  {
   "cell_type": "markdown",
   "metadata": {},
   "source": [
    "Como podemos observar, el feature \"alcohol\" lo definimos como un dato cuantitativo continuo, pero, en el dataset aparece como un _object_. Por lo tanto, lo castearemos como _float64_"
   ]
  },
  {
   "cell_type": "code",
   "execution_count": 35,
   "metadata": {},
   "outputs": [
    {
     "name": "stdout",
     "output_type": "stream",
     "text": [
      "No se pudo convertir el dato a float64\n"
     ]
    }
   ],
   "source": [
    "preprocessed_ds = raw_ds.copy()\n",
    "try:\n",
    "    preprocessed_ds[\"alcohol\"] = preprocessed_ds[\"alcohol\"].astype(float)\n",
    "    print(\"Fue en éxito\")\n",
    "except ValueError :\n",
    "    print(\"No se pudo convertir el dato a float64\")"
   ]
  },
  {
   "cell_type": "markdown",
   "metadata": {},
   "source": [
    "La ejecución del casting dió un error, esto quiere decir que hay datos en la columna de _alcohol_ que no concuerdan con el tipo de dato _float64_. Vemos con _value_counts_ qué valores hay en la columna:"
   ]
  },
  {
   "cell_type": "code",
   "execution_count": 36,
   "metadata": {},
   "outputs": [
    {
     "data": {
      "text/plain": [
       "alcohol\n",
       "9.5                    222\n",
       "9.4                    181\n",
       "10                     143\n",
       "9.2                    141\n",
       "9.8                    133\n",
       "                      ... \n",
       "9.95                     1\n",
       "923.333.333.333.333      1\n",
       "9.25                     1\n",
       "9.05                     1\n",
       "10.75                    1\n",
       "Name: count, Length: 69, dtype: int64"
      ]
     },
     "execution_count": 36,
     "metadata": {},
     "output_type": "execute_result"
    }
   ],
   "source": [
    "conteo_de_valores = preprocessed_ds[\"alcohol\"].value_counts()\n",
    "conteo_de_valores"
   ]
  },
  {
   "cell_type": "markdown",
   "metadata": {},
   "source": [
    "Mejorando la precisión de la función:"
   ]
  },
  {
   "cell_type": "code",
   "execution_count": 37,
   "metadata": {},
   "outputs": [
    {
     "data": {
      "text/plain": [
       "alcohol\n",
       "10.5                   132\n",
       "9.3                    115\n",
       "9.6                    114\n",
       "11                     103\n",
       "9                       99\n",
       "                      ... \n",
       "9.95                     1\n",
       "923.333.333.333.333      1\n",
       "9.25                     1\n",
       "9.05                     1\n",
       "10.75                    1\n",
       "Name: count, Length: 64, dtype: int64"
      ]
     },
     "execution_count": 37,
     "metadata": {},
     "output_type": "execute_result"
    }
   ],
   "source": [
    "conteo_de_valores[conteo_de_valores < 133]"
   ]
  },
  {
   "cell_type": "code",
   "execution_count": 38,
   "metadata": {},
   "outputs": [
    {
     "data": {
      "text/plain": [
       "alcohol\n",
       "9.7                    98\n",
       "10.8                   94\n",
       "10.2                   94\n",
       "10.4                   91\n",
       "10.1                   90\n",
       "9.9                    89\n",
       "10.9                   77\n",
       "9.1                    76\n",
       "11.4                   75\n",
       "10.6                   69\n",
       "11.2                   65\n",
       "10.3                   63\n",
       "10.7                   60\n",
       "11.3                   59\n",
       "11.5                   58\n",
       "11.1                   47\n",
       "8.9                    44\n",
       "12.5                   43\n",
       "11.8                   42\n",
       "8.7                    40\n",
       "11.7                   38\n",
       "12.2                   38\n",
       "12                     37\n",
       "8.8                    35\n",
       "12.8                   34\n",
       "12.3                   32\n",
       "11.9                   32\n",
       "12.4                   30\n",
       "11.6                   28\n",
       "12.6                   28\n",
       "12.1                   27\n",
       "12.7                   26\n",
       "8.6                    14\n",
       "12.9                   14\n",
       "14                      8\n",
       "13                      7\n",
       "13.4                    5\n",
       "8.5                     5\n",
       "13.5                    4\n",
       "13.3                    4\n",
       "13.6                    4\n",
       "8.4                     2\n",
       "10.55                   2\n",
       "100.333.333.333.333     2\n",
       "9.55                    2\n",
       "13.1                    2\n",
       "13.7                    2\n",
       "13.2                    2\n",
       "14.9                    1\n",
       "13.9                    1\n",
       "110.666.666.666.667     1\n",
       "956.666.666.666.667     1\n",
       "135.666.666.666.667     1\n",
       "11.95                   1\n",
       "9.95                    1\n",
       "923.333.333.333.333     1\n",
       "9.25                    1\n",
       "9.05                    1\n",
       "10.75                   1\n",
       "Name: count, dtype: int64"
      ]
     },
     "execution_count": 38,
     "metadata": {},
     "output_type": "execute_result"
    }
   ],
   "source": [
    "conteo_de_valores[conteo_de_valores < 99]"
   ]
  },
  {
   "cell_type": "code",
   "execution_count": 39,
   "metadata": {},
   "outputs": [
    {
     "data": {
      "text/plain": [
       "alcohol\n",
       "12.8                   34\n",
       "12.3                   32\n",
       "11.9                   32\n",
       "12.4                   30\n",
       "11.6                   28\n",
       "12.6                   28\n",
       "12.1                   27\n",
       "12.7                   26\n",
       "8.6                    14\n",
       "12.9                   14\n",
       "14                      8\n",
       "13                      7\n",
       "13.4                    5\n",
       "8.5                     5\n",
       "13.5                    4\n",
       "13.3                    4\n",
       "13.6                    4\n",
       "8.4                     2\n",
       "10.55                   2\n",
       "100.333.333.333.333     2\n",
       "9.55                    2\n",
       "13.1                    2\n",
       "13.7                    2\n",
       "13.2                    2\n",
       "14.9                    1\n",
       "13.9                    1\n",
       "110.666.666.666.667     1\n",
       "956.666.666.666.667     1\n",
       "135.666.666.666.667     1\n",
       "11.95                   1\n",
       "9.95                    1\n",
       "923.333.333.333.333     1\n",
       "9.25                    1\n",
       "9.05                    1\n",
       "10.75                   1\n",
       "Name: count, dtype: int64"
      ]
     },
     "execution_count": 39,
     "metadata": {},
     "output_type": "execute_result"
    }
   ],
   "source": [
    "conteo_de_valores[conteo_de_valores < 35]"
   ]
  },
  {
   "cell_type": "code",
   "execution_count": 40,
   "metadata": {},
   "outputs": [
    {
     "data": {
      "text/plain": [
       "alcohol\n",
       "14                     8\n",
       "13                     7\n",
       "13.4                   5\n",
       "8.5                    5\n",
       "13.5                   4\n",
       "13.3                   4\n",
       "13.6                   4\n",
       "8.4                    2\n",
       "10.55                  2\n",
       "100.333.333.333.333    2\n",
       "9.55                   2\n",
       "13.1                   2\n",
       "13.7                   2\n",
       "13.2                   2\n",
       "14.9                   1\n",
       "13.9                   1\n",
       "110.666.666.666.667    1\n",
       "956.666.666.666.667    1\n",
       "135.666.666.666.667    1\n",
       "11.95                  1\n",
       "9.95                   1\n",
       "923.333.333.333.333    1\n",
       "9.25                   1\n",
       "9.05                   1\n",
       "10.75                  1\n",
       "Name: count, dtype: int64"
      ]
     },
     "execution_count": 40,
     "metadata": {},
     "output_type": "execute_result"
    }
   ],
   "source": [
    "conteo_de_valores[conteo_de_valores < 10]"
   ]
  },
  {
   "cell_type": "markdown",
   "metadata": {},
   "source": [
    "Estos valores que no podemos convertir a _float64_, no son siquiera números o valores extremos (los miles se separan con comas en inglés). Podríamos intuir que un hubo un problema con los decimales periódicos. A su vez, para la corrección habría que tener en cuenta que, el grado de alcohol del vino ronda entre el 5% y el 20%. Por lo tanto:"
   ]
  },
  {
   "cell_type": "code",
   "execution_count": 41,
   "metadata": {},
   "outputs": [
    {
     "name": "stdout",
     "output_type": "stream",
     "text": [
      "Fue un éxito\n"
     ]
    }
   ],
   "source": [
    "preprocessed_ds[\"alcohol\"] = preprocessed_ds[\"alcohol\"].replace(\"100.333.333.333.333\", \"10.03\")\n",
    "preprocessed_ds[\"alcohol\"] = preprocessed_ds[\"alcohol\"].replace(\"923.333.333.333.333\", \"9.23\")\n",
    "preprocessed_ds[\"alcohol\"] = preprocessed_ds[\"alcohol\"].replace(\"110.666.666.666.667\", \"11.07\")\n",
    "preprocessed_ds[\"alcohol\"] = preprocessed_ds[\"alcohol\"].replace(\"956.666.666.666.667\", \"9.57\")\n",
    "preprocessed_ds[\"alcohol\"] = preprocessed_ds[\"alcohol\"].replace(\"135.666.666.666.667\", \"13.57\")\n",
    "\n",
    "try:\n",
    "    preprocessed_ds[\"alcohol\"] = preprocessed_ds[\"alcohol\"].astype(float)\n",
    "    print(\"Fue un éxito\")\n",
    "except ValueError as e:\n",
    "    print(\"No se pudo convertir el dato a float64\")"
   ]
  },
  {
   "cell_type": "markdown",
   "metadata": {},
   "source": [
    "## Estudio de valores nulos"
   ]
  },
  {
   "cell_type": "markdown",
   "metadata": {},
   "source": [
    "Empezamos viendo por cada _feature_ qué valores se encuentran. El fin es detectar aquellos valores que deberían ser reemplazados por nulos, como por ejemplo, los discernibles."
   ]
  },
  {
   "cell_type": "code",
   "execution_count": 46,
   "metadata": {},
   "outputs": [
    {
     "data": {
      "text/plain": [
       "type\n",
       "Riesling    1633\n",
       "Garnacha    1599\n",
       "Name: count, dtype: int64"
      ]
     },
     "execution_count": 46,
     "metadata": {},
     "output_type": "execute_result"
    }
   ],
   "source": [
    "preprocessed_ds[\"type\"].value_counts()"
   ]
  },
  {
   "cell_type": "code",
   "execution_count": 47,
   "metadata": {},
   "outputs": [
    {
     "data": {
      "text/plain": [
       "2548      6.0\n",
       "2617      6.0\n",
       "2612      6.0\n",
       "2446      7.0\n",
       "2920      7.0\n",
       "        ...  \n",
       "227     272.0\n",
       "2712    278.0\n",
       "2714    289.0\n",
       "325     313.0\n",
       "1417    366.5\n",
       "Name: total sulfur dioxide, Length: 3232, dtype: float64"
      ]
     },
     "execution_count": 47,
     "metadata": {},
     "output_type": "execute_result"
    }
   ],
   "source": [
    "preprocessed_ds[\"total sulfur dioxide\"].sort_values(ascending=True)"
   ]
  },
  {
   "cell_type": "code",
   "execution_count": 48,
   "metadata": {},
   "outputs": [
    {
     "data": {
      "text/plain": [
       "2470    0.012\n",
       "2469    0.012\n",
       "930     0.017\n",
       "970     0.017\n",
       "876     0.018\n",
       "        ...  \n",
       "2325    0.422\n",
       "1714    0.464\n",
       "1739    0.467\n",
       "1784    0.610\n",
       "1891    0.611\n",
       "Name: chlorides, Length: 3232, dtype: float64"
      ]
     },
     "execution_count": 48,
     "metadata": {},
     "output_type": "execute_result"
    }
   ],
   "source": [
    "preprocessed_ds[\"chlorides\"].sort_values(ascending=True)"
   ]
  },
  {
   "cell_type": "code",
   "execution_count": 50,
   "metadata": {},
   "outputs": [
    {
     "data": {
      "text/plain": [
       "2787    0.00\n",
       "1882    0.00\n",
       "2763    0.00\n",
       "2954    0.00\n",
       "3048    0.00\n",
       "        ... \n",
       "207     0.88\n",
       "1551    0.99\n",
       "946     1.00\n",
       "1784    1.00\n",
       "745     1.66\n",
       "Name: citric acid, Length: 3232, dtype: float64"
      ]
     },
     "execution_count": 50,
     "metadata": {},
     "output_type": "execute_result"
    }
   ],
   "source": [
    "preprocessed_ds[\"citric acid\"].sort_values(ascending=True)"
   ]
  },
  {
   "cell_type": "markdown",
   "metadata": {},
   "source": [
    "Cuando vemos los valores de la variable _citric acid_, notamos que hay muchos ceros. Estos podrían ser tomados por discernibles porque es muy poco probable que un vino tenga cero gramos de ácido cítrico por litro. Contamos cuántos ceros hay:"
   ]
  },
  {
   "cell_type": "code",
   "execution_count": 54,
   "metadata": {},
   "outputs": [
    {
     "name": "stdout",
     "output_type": "stream",
     "text": [
      "La cantidad de ceros es: 140 de un total de 3232\n",
      "El porcentaje de ceros respecto del total es: 4.33%\n"
     ]
    }
   ],
   "source": [
    "num_ceros = preprocessed_ds[preprocessed_ds[\"citric acid\"] == 0].shape[0]\n",
    "num_de_observaciones = preprocessed_ds.shape[0]\n",
    "porcentaje_ceros = 100 * num_ceros / num_de_observaciones\n",
    "\n",
    "print(f\"La cantidad de ceros es: {num_ceros} de un total de {num_de_observaciones}\")\n",
    "print(f\"El porcentaje de ceros respecto del total es: {round(porcentaje_ceros, 2)}%\")"
   ]
  },
  {
   "cell_type": "markdown",
   "metadata": {},
   "source": [
    "Si tenemos en cuenta que el grado de ácido cítrico suele rondar por debajo del 1% del volumen total del vino, se debería hablar con los _stakeholders_ para ver qué se hace con el dato, ya que, si la muestra no es representativa porque, por ejemplo, hubo un error en la muestra, no se deberían sacar conclusiones. "
   ]
  },
  {
   "cell_type": "code",
   "execution_count": 55,
   "metadata": {},
   "outputs": [
    {
     "data": {
      "text/html": [
       "<div>\n",
       "<style scoped>\n",
       "    .dataframe tbody tr th:only-of-type {\n",
       "        vertical-align: middle;\n",
       "    }\n",
       "\n",
       "    .dataframe tbody tr th {\n",
       "        vertical-align: top;\n",
       "    }\n",
       "\n",
       "    .dataframe thead th {\n",
       "        text-align: right;\n",
       "    }\n",
       "</style>\n",
       "<table border=\"1\" class=\"dataframe\">\n",
       "  <thead>\n",
       "    <tr style=\"text-align: right;\">\n",
       "      <th></th>\n",
       "      <th>fixed acidity</th>\n",
       "      <th>volatile acidity</th>\n",
       "      <th>citric acid</th>\n",
       "      <th>residual sugar</th>\n",
       "      <th>chlorides</th>\n",
       "      <th>free sulfur dioxide</th>\n",
       "      <th>total sulfur dioxide</th>\n",
       "      <th>density</th>\n",
       "      <th>pH</th>\n",
       "      <th>sulphates</th>\n",
       "      <th>alcohol</th>\n",
       "      <th>quality</th>\n",
       "    </tr>\n",
       "  </thead>\n",
       "  <tbody>\n",
       "    <tr>\n",
       "      <th>count</th>\n",
       "      <td>3232.000000</td>\n",
       "      <td>3232.000000</td>\n",
       "      <td>3232.000000</td>\n",
       "      <td>3232.000000</td>\n",
       "      <td>3232.000000</td>\n",
       "      <td>3232.000000</td>\n",
       "      <td>3232.00000</td>\n",
       "      <td>3232.000000</td>\n",
       "      <td>3232.000000</td>\n",
       "      <td>3232.000000</td>\n",
       "      <td>3232.000000</td>\n",
       "      <td>3232.000000</td>\n",
       "    </tr>\n",
       "    <tr>\n",
       "      <th>mean</th>\n",
       "      <td>7.664851</td>\n",
       "      <td>0.402614</td>\n",
       "      <td>0.318654</td>\n",
       "      <td>4.303697</td>\n",
       "      <td>0.066740</td>\n",
       "      <td>25.460705</td>\n",
       "      <td>95.52367</td>\n",
       "      <td>1.675952</td>\n",
       "      <td>3.258085</td>\n",
       "      <td>0.571235</td>\n",
       "      <td>10.356420</td>\n",
       "      <td>5.760210</td>\n",
       "    </tr>\n",
       "    <tr>\n",
       "      <th>std</th>\n",
       "      <td>1.520589</td>\n",
       "      <td>0.191189</td>\n",
       "      <td>0.175392</td>\n",
       "      <td>4.074992</td>\n",
       "      <td>0.042285</td>\n",
       "      <td>16.731790</td>\n",
       "      <td>62.29632</td>\n",
       "      <td>7.067230</td>\n",
       "      <td>0.163933</td>\n",
       "      <td>0.168402</td>\n",
       "      <td>1.100061</td>\n",
       "      <td>0.883699</td>\n",
       "    </tr>\n",
       "    <tr>\n",
       "      <th>min</th>\n",
       "      <td>4.600000</td>\n",
       "      <td>0.080000</td>\n",
       "      <td>0.000000</td>\n",
       "      <td>0.800000</td>\n",
       "      <td>0.012000</td>\n",
       "      <td>1.000000</td>\n",
       "      <td>6.00000</td>\n",
       "      <td>0.988150</td>\n",
       "      <td>2.740000</td>\n",
       "      <td>0.250000</td>\n",
       "      <td>8.400000</td>\n",
       "      <td>3.000000</td>\n",
       "    </tr>\n",
       "    <tr>\n",
       "      <th>25%</th>\n",
       "      <td>6.700000</td>\n",
       "      <td>0.250000</td>\n",
       "      <td>0.217500</td>\n",
       "      <td>1.800000</td>\n",
       "      <td>0.043000</td>\n",
       "      <td>12.000000</td>\n",
       "      <td>38.00000</td>\n",
       "      <td>0.993600</td>\n",
       "      <td>3.140000</td>\n",
       "      <td>0.460000</td>\n",
       "      <td>9.500000</td>\n",
       "      <td>5.000000</td>\n",
       "    </tr>\n",
       "    <tr>\n",
       "      <th>50%</th>\n",
       "      <td>7.300000</td>\n",
       "      <td>0.350000</td>\n",
       "      <td>0.320000</td>\n",
       "      <td>2.300000</td>\n",
       "      <td>0.059000</td>\n",
       "      <td>23.000000</td>\n",
       "      <td>91.00000</td>\n",
       "      <td>0.995800</td>\n",
       "      <td>3.260000</td>\n",
       "      <td>0.550000</td>\n",
       "      <td>10.100000</td>\n",
       "      <td>6.000000</td>\n",
       "    </tr>\n",
       "    <tr>\n",
       "      <th>75%</th>\n",
       "      <td>8.200000</td>\n",
       "      <td>0.540000</td>\n",
       "      <td>0.440000</td>\n",
       "      <td>5.400000</td>\n",
       "      <td>0.080000</td>\n",
       "      <td>35.000000</td>\n",
       "      <td>144.00000</td>\n",
       "      <td>0.997400</td>\n",
       "      <td>3.370000</td>\n",
       "      <td>0.650000</td>\n",
       "      <td>11.000000</td>\n",
       "      <td>6.000000</td>\n",
       "    </tr>\n",
       "    <tr>\n",
       "      <th>max</th>\n",
       "      <td>15.900000</td>\n",
       "      <td>1.580000</td>\n",
       "      <td>1.660000</td>\n",
       "      <td>23.500000</td>\n",
       "      <td>0.611000</td>\n",
       "      <td>131.000000</td>\n",
       "      <td>366.50000</td>\n",
       "      <td>100.369000</td>\n",
       "      <td>4.010000</td>\n",
       "      <td>2.000000</td>\n",
       "      <td>14.900000</td>\n",
       "      <td>9.000000</td>\n",
       "    </tr>\n",
       "  </tbody>\n",
       "</table>\n",
       "</div>"
      ],
      "text/plain": [
       "       fixed acidity  volatile acidity  citric acid  residual sugar  \\\n",
       "count    3232.000000       3232.000000  3232.000000     3232.000000   \n",
       "mean        7.664851          0.402614     0.318654        4.303697   \n",
       "std         1.520589          0.191189     0.175392        4.074992   \n",
       "min         4.600000          0.080000     0.000000        0.800000   \n",
       "25%         6.700000          0.250000     0.217500        1.800000   \n",
       "50%         7.300000          0.350000     0.320000        2.300000   \n",
       "75%         8.200000          0.540000     0.440000        5.400000   \n",
       "max        15.900000          1.580000     1.660000       23.500000   \n",
       "\n",
       "         chlorides  free sulfur dioxide  total sulfur dioxide      density  \\\n",
       "count  3232.000000          3232.000000            3232.00000  3232.000000   \n",
       "mean      0.066740            25.460705              95.52367     1.675952   \n",
       "std       0.042285            16.731790              62.29632     7.067230   \n",
       "min       0.012000             1.000000               6.00000     0.988150   \n",
       "25%       0.043000            12.000000              38.00000     0.993600   \n",
       "50%       0.059000            23.000000              91.00000     0.995800   \n",
       "75%       0.080000            35.000000             144.00000     0.997400   \n",
       "max       0.611000           131.000000             366.50000   100.369000   \n",
       "\n",
       "                pH    sulphates      alcohol      quality  \n",
       "count  3232.000000  3232.000000  3232.000000  3232.000000  \n",
       "mean      3.258085     0.571235    10.356420     5.760210  \n",
       "std       0.163933     0.168402     1.100061     0.883699  \n",
       "min       2.740000     0.250000     8.400000     3.000000  \n",
       "25%       3.140000     0.460000     9.500000     5.000000  \n",
       "50%       3.260000     0.550000    10.100000     6.000000  \n",
       "75%       3.370000     0.650000    11.000000     6.000000  \n",
       "max       4.010000     2.000000    14.900000     9.000000  "
      ]
     },
     "execution_count": 55,
     "metadata": {},
     "output_type": "execute_result"
    }
   ],
   "source": [
    "preprocessed_ds.describe() # PARA SACAR LA MEDIA Y DESVÍO DE LA MUESTRA"
   ]
  },
  {
   "cell_type": "code",
   "execution_count": 63,
   "metadata": {},
   "outputs": [
    {
     "data": {
      "text/plain": [
       "2406      1.0\n",
       "2163      1.0\n",
       "2168      1.0\n",
       "2407      2.0\n",
       "259       3.0\n",
       "        ...  \n",
       "405      87.0\n",
       "395      87.0\n",
       "1257     88.0\n",
       "659     122.5\n",
       "325     131.0\n",
       "Name: free sulfur dioxide, Length: 3232, dtype: float64"
      ]
     },
     "execution_count": 63,
     "metadata": {},
     "output_type": "execute_result"
    }
   ],
   "source": [
    "preprocessed_ds[\"free sulfur dioxide\"].sort_values(ascending=True)"
   ]
  },
  {
   "cell_type": "code",
   "execution_count": 61,
   "metadata": {},
   "outputs": [
    {
     "data": {
      "text/plain": [
       "1784    2.74\n",
       "1214    2.74\n",
       "621     2.85\n",
       "1330    2.85\n",
       "1329    2.85\n",
       "        ... \n",
       "1728    3.85\n",
       "2328    3.90\n",
       "1678    3.90\n",
       "2949    4.01\n",
       "2954    4.01\n",
       "Name: pH, Length: 3232, dtype: float64"
      ]
     },
     "execution_count": 61,
     "metadata": {},
     "output_type": "execute_result"
    }
   ],
   "source": [
    "preprocessed_ds[\"pH\"].sort_values(ascending=True)"
   ]
  },
  {
   "cell_type": "code",
   "execution_count": 64,
   "metadata": {},
   "outputs": [
    {
     "data": {
      "text/plain": [
       "1678     4.6\n",
       "1728     4.7\n",
       "862      4.8\n",
       "864      4.8\n",
       "2454     4.9\n",
       "        ... \n",
       "2187    15.5\n",
       "2188    15.5\n",
       "2190    15.6\n",
       "2075    15.6\n",
       "2285    15.9\n",
       "Name: fixed acidity, Length: 3232, dtype: float64"
      ]
     },
     "execution_count": 64,
     "metadata": {},
     "output_type": "execute_result"
    }
   ],
   "source": [
    "preprocessed_ds[\"fixed acidity\"].sort_values(ascending=True)"
   ]
  },
  {
   "cell_type": "code",
   "execution_count": 67,
   "metadata": {},
   "outputs": [
    {
     "data": {
      "text/plain": [
       "density\n",
       "0      3118\n",
       "10       68\n",
       "1        30\n",
       "100      16\n",
       "Name: count, dtype: int64"
      ]
     },
     "execution_count": 67,
     "metadata": {},
     "output_type": "execute_result"
    }
   ],
   "source": [
    "preprocessed_ds[\"density\"].sort_values(ascending=True)\n",
    "df_acotado = preprocessed_ds[\"density\"].astype(int) # ACOTAMOS PARA HACER VALUE_COUNTS\n",
    "df_acotado.value_counts()"
   ]
  },
  {
   "cell_type": "code",
   "execution_count": 68,
   "metadata": {},
   "outputs": [
    {
     "data": {
      "text/plain": [
       "quality\n",
       "6    1335\n",
       "5    1167\n",
       "7     501\n",
       "4     118\n",
       "8      86\n",
       "3      20\n",
       "9       5\n",
       "Name: count, dtype: int64"
      ]
     },
     "execution_count": 68,
     "metadata": {},
     "output_type": "execute_result"
    }
   ],
   "source": [
    "preprocessed_ds[\"quality\"].value_counts()"
   ]
  },
  {
   "cell_type": "code",
   "execution_count": 69,
   "metadata": {},
   "outputs": [
    {
     "data": {
      "text/plain": [
       "1126    0.25\n",
       "1210    0.25\n",
       "1283    0.25\n",
       "175     0.27\n",
       "1301    0.27\n",
       "        ... \n",
       "2356    1.62\n",
       "1724    1.95\n",
       "1719    1.95\n",
       "1725    1.98\n",
       "1784    2.00\n",
       "Name: sulphates, Length: 3232, dtype: float64"
      ]
     },
     "execution_count": 69,
     "metadata": {},
     "output_type": "execute_result"
    }
   ],
   "source": [
    "preprocessed_ds[\"sulphates\"].sort_values(ascending=True)"
   ]
  },
  {
   "cell_type": "code",
   "execution_count": 70,
   "metadata": {},
   "outputs": [
    {
     "data": {
      "text/plain": [
       "223      0.8\n",
       "1465     0.8\n",
       "1166     0.8\n",
       "1541     0.8\n",
       "372      0.8\n",
       "        ... \n",
       "7       20.7\n",
       "444     20.8\n",
       "191     22.0\n",
       "182     22.0\n",
       "1608    23.5\n",
       "Name: residual sugar, Length: 3232, dtype: float64"
      ]
     },
     "execution_count": 70,
     "metadata": {},
     "output_type": "execute_result"
    }
   ],
   "source": [
    "preprocessed_ds[\"residual sugar\"].sort_values(ascending=True)"
   ]
  },
  {
   "cell_type": "code",
   "execution_count": null,
   "metadata": {},
   "outputs": [
    {
     "data": {
      "text/plain": [
       "1126    0.25\n",
       "1210    0.25\n",
       "1283    0.25\n",
       "175     0.27\n",
       "1301    0.27\n",
       "        ... \n",
       "2356    1.62\n",
       "1724    1.95\n",
       "1719    1.95\n",
       "1725    1.98\n",
       "1784    2.00\n",
       "Name: sulphates, Length: 3232, dtype: float64"
      ]
     },
     "metadata": {},
     "output_type": "display_data"
    }
   ],
   "source": [
    "preprocessed_ds[\"volatile acidity\"].sort_values(ascending=True)\n",
    "preprocessed_ds[\"\"]"
   ]
  },
  {
   "cell_type": "markdown",
   "metadata": {},
   "source": [
    "No hay discernibles por lo visto."
   ]
  },
  {
   "cell_type": "markdown",
   "metadata": {},
   "source": [
    "## Transformación del dataset "
   ]
  },
  {
   "cell_type": "markdown",
   "metadata": {},
   "source": [
    "# DUDAS & NOTAS"
   ]
  },
  {
   "cell_type": "markdown",
   "metadata": {},
   "source": [
    "**NOTA:** HAY (MUCHOS?) OUTLIERS EN EL \"FREE SULFUR DIOXIDE\" < 30 Y > 100  \n",
    "**NOTA:** HAY (MUCHOS?) OUTLIERS EN EL \"TOTAL SULFUR DIOXIDE\" < 30 Y 100 < (TINTO) < 50 Y 150 < (BLANCO)  \n",
    "**NOTA:** HAY (MUCHOS?) OUTLIERS EN EL \"FIXED ACIDITY\" > 8    \n",
    "**NOTA:** MUCHOS OUTLIERS EN \"DENSITY\", VALORES SIN SENTIDO. ,99 < DENSITY < 1,015  \n",
    "**NOTA:** HAY (MUCHOS?) OUTLIERS EN EL \"CHLORIDE\" < 10 Y < 80 (TINTO) 20 Y 100 < (BLANCO) MILIGRAMOS  \n",
    "**NOTA:** TENEMOS QUE PREGUNTAR POR LOS CEROS DEL \"ÁCIDO CÍTRICO\"  \n",
    "**NOTA:** HAY (MUCHOS?) OUTLIERS EN SULPHATES  < 10 Y 100 < MG POR LITRO  \n",
    "**NOTA:** NO HAY UNA MEDIDA DE OUTLIER PARA \"RESIDUAL SUGAR\"  \n",
    "**NOTA:** FALTA VER QUE HACEMOS CON LOS NULOS  \n",
    "**NOTA:** PARECIERA NO HABER OUTLIERS PARA \"VOLATILE ACIDITY\"  \n",
    "**DUDAS:** SE PUEDE MEJORAR LA PRECISION DEL VALUE_COUNTS DE OTRA MANERA A LA NUESTRA (CORRECCION DE ALCOHOL)?  \n",
    "**DUDAS:** ES NECESARIO COPIAR EL DATASET CUANDO CAMBIAMOS EL TIPO DEL DATO A FLOAT DE UNA FEATURE (Y CUANDO BORRAMOS COLUMNAS NULAS?)?  \n",
    "**DUDAS:** ES NECESARIO QUE SEA TAN ATÓMICA LA NOTEBOOK?  \n",
    "**DUDAS:** TENEMOS QUÉ EXPLICAR DE DÓNDE SACAMOS EL TIPO DE DATO DE CADA VARIABLE?  "
   ]
  }
 ],
 "metadata": {
  "kernelspec": {
   "display_name": ".venv",
   "language": "python",
   "name": "python3"
  },
  "language_info": {
   "codemirror_mode": {
    "name": "ipython",
    "version": 3
   },
   "file_extension": ".py",
   "mimetype": "text/x-python",
   "name": "python",
   "nbconvert_exporter": "python",
   "pygments_lexer": "ipython3",
   "version": "3.11.5"
  }
 },
 "nbformat": 4,
 "nbformat_minor": 2
}

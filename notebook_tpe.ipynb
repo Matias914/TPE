{
 "cells": [
  {
   "cell_type": "markdown",
   "metadata": {},
   "source": [
    "# Trabajo práctico especial"
   ]
  },
  {
   "cell_type": "markdown",
   "metadata": {},
   "source": [
    "## Datos sobre el dataset\n",
    "\n",
    "Este conjunto de datos contiene 3232 muestras de vino obtenidas mediante pruebas fisicoquímicas en la bodega El Refugio, elaboradas a partir de dos tipos de uva.\n",
    "\n",
    "### Descripción de las variables:\n",
    "\n",
    "- **type**: tipo de uva con la que se elabora el vino.\n",
    "- **fixed acidity**: cantidad de ácidos no volátiles presentes en el vino, medida en gramos por litro.\n",
    "- **volatile acidity**: cantidad de ácidos volátiles presentes en el vino, medida en gramos por litro. \n",
    "- **citric acid**: contenido de ácido cítrico en el vino, medido en gramos por litro.\n",
    "- **residual sugar**: cantidad de azúcar que queda en el vino después de la fermentación, medida en gramos por litro. \n",
    "- **chlorides**: concentración de cloruros (sales) en el vino, medida en gramos por litro.\n",
    "- **free sulfur dioxide**: cantidad de dióxido de azufre que no está ligado químicamente en el vino, medida en miligramos por litro. \n",
    "- **total sulfur dioxide**: suma del dióxido de azufre libre y el combinado en el vino, medida en miligramos por litro.\n",
    "- **density**: medida de la masa por unidad de volumen del vino, utilizada para estimar la concentración de sólidos disueltos, medida en gramos por centímetro cúbico.\n",
    "- **pH**: medida de la acidez o alcalinidad del vino. \n",
    "- **sulphates**: concentración de sales de sulfato en el vino, medida en gramos por litro. \n",
    "- **alcohol**: contenido alcohólico del vino, medido en porcentaje de volumen (% vol).\n",
    "- **quality**: puntuación del vino, con una escala que va de 0 a 10.\n"
   ]
  },
  {
   "cell_type": "code",
   "execution_count": null,
   "metadata": {},
   "outputs": [],
   "source": []
  }
 ],
 "metadata": {
  "kernelspec": {
   "display_name": ".venv",
   "language": "python",
   "name": "python3"
  },
  "language_info": {
   "codemirror_mode": {
    "name": "ipython",
    "version": 3
   },
   "file_extension": ".py",
   "mimetype": "text/x-python",
   "name": "python",
   "nbconvert_exporter": "python",
   "pygments_lexer": "ipython3",
   "version": "3.11.5"
  }
 },
 "nbformat": 4,
 "nbformat_minor": 2
}
